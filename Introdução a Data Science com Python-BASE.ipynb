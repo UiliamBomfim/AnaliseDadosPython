{
 "cells": [
  {
   "cell_type": "markdown",
   "metadata": {},
   "source": [
    "***\n",
    "## <font color=\"#106eb2\" size=10>  Análise Value Releance de indicadores da B3 entre 2008 e 2019 </font>\n",
    "***\n",
    "\n"
   ]
  },
  {
   "cell_type": "markdown",
   "metadata": {},
   "source": [
    "## <font color=\"#1D334A\" size=8> Conhecendo os Dados</font>"
   ]
  },
  {
   "cell_type": "markdown",
   "metadata": {},
   "source": [
    "Esta primeira aula é dedicada a realizar uma análise inicial de uma amostra de dados dos participantes do ENEM 2019.\n",
    "\n",
    "É importante conhecer a semântica dos dados descrita no dicionário de dados. A exploração inicial, o conhecimento do negócio, e do dicionário de dados é importante para a formulação de hipóteses.\n",
    "\n",
    "Os dados foram extraídos de http://inep.gov.br/microdados\n",
    "\n",
    "\n"
   ]
  },
  {
   "cell_type": "markdown",
   "metadata": {},
   "source": [
    "### Importando bibliotecas"
   ]
  },
  {
   "cell_type": "code",
   "execution_count": 1,
   "metadata": {},
   "outputs": [],
   "source": [
    "import pandas as pd\n",
    "import numpy as np\n",
    "\n"
   ]
  },
  {
   "cell_type": "markdown",
   "metadata": {},
   "source": [
    "### Exploração Inicial"
   ]
  },
  {
   "cell_type": "markdown",
   "metadata": {},
   "source": [
    "Os dados estão apresentados em milhares (ou seja, o valor real dividido por mil), exceto retorno das ações que está em sua escala real.\n",
    "\n",
    "RET- retorno das ações ((Preço final da ação - Preço inicial da ação) + Dividendos) / Preço inicial da ação))\n",
    "\n",
    "REC - Receita líquida\n",
    "EBITDA - Earnings before interest, taxes, depreciation and amortization.\n",
    "EBIT - Earnings before interest, taxes\n",
    "LAIR - Lucro antes do Imposto de Renda\n",
    "LAOD - Lucro antes das despesas extraodinarias \n",
    "LL - Lucro líquido\n",
    "FCO - Fluxo de Caixa Operacional"
   ]
  },
  {
   "cell_type": "code",
   "execution_count": 2,
   "metadata": {
    "scrolled": false
   },
   "outputs": [
    {
     "data": {
      "text/html": [
       "<div>\n",
       "<style scoped>\n",
       "    .dataframe tbody tr th:only-of-type {\n",
       "        vertical-align: middle;\n",
       "    }\n",
       "\n",
       "    .dataframe tbody tr th {\n",
       "        vertical-align: top;\n",
       "    }\n",
       "\n",
       "    .dataframe thead th {\n",
       "        text-align: right;\n",
       "    }\n",
       "</style>\n",
       "<table border=\"1\" class=\"dataframe\">\n",
       "  <thead>\n",
       "    <tr style=\"text-align: right;\">\n",
       "      <th></th>\n",
       "      <th>NUM</th>\n",
       "      <th>RET</th>\n",
       "      <th>REC</th>\n",
       "      <th>EBITDA</th>\n",
       "      <th>EBIT</th>\n",
       "      <th>LAIR</th>\n",
       "      <th>LAOD</th>\n",
       "      <th>LL</th>\n",
       "      <th>FCO</th>\n",
       "      <th>ANO</th>\n",
       "    </tr>\n",
       "  </thead>\n",
       "  <tbody>\n",
       "    <tr>\n",
       "      <th>0</th>\n",
       "      <td>1</td>\n",
       "      <td>0.274809</td>\n",
       "      <td>66895.0</td>\n",
       "      <td>5256.0</td>\n",
       "      <td>2732.0</td>\n",
       "      <td>1663.0</td>\n",
       "      <td>1709.0</td>\n",
       "      <td>1709.0</td>\n",
       "      <td>-47884.0</td>\n",
       "      <td>2019</td>\n",
       "    </tr>\n",
       "    <tr>\n",
       "      <th>1</th>\n",
       "      <td>2</td>\n",
       "      <td>0.263549</td>\n",
       "      <td>528009.0</td>\n",
       "      <td>287487.0</td>\n",
       "      <td>205061.0</td>\n",
       "      <td>104794.0</td>\n",
       "      <td>105558.0</td>\n",
       "      <td>105558.0</td>\n",
       "      <td>161816.0</td>\n",
       "      <td>2019</td>\n",
       "    </tr>\n",
       "    <tr>\n",
       "      <th>2</th>\n",
       "      <td>3</td>\n",
       "      <td>-0.061674</td>\n",
       "      <td>262156.0</td>\n",
       "      <td>59898.0</td>\n",
       "      <td>30495.0</td>\n",
       "      <td>14020.0</td>\n",
       "      <td>10054.0</td>\n",
       "      <td>7442.0</td>\n",
       "      <td>61421.0</td>\n",
       "      <td>2019</td>\n",
       "    </tr>\n",
       "    <tr>\n",
       "      <th>3</th>\n",
       "      <td>4</td>\n",
       "      <td>0.226506</td>\n",
       "      <td>756219.0</td>\n",
       "      <td>206293.0</td>\n",
       "      <td>176078.0</td>\n",
       "      <td>240410.0</td>\n",
       "      <td>182058.0</td>\n",
       "      <td>118428.0</td>\n",
       "      <td>202109.0</td>\n",
       "      <td>2019</td>\n",
       "    </tr>\n",
       "    <tr>\n",
       "      <th>4</th>\n",
       "      <td>5</td>\n",
       "      <td>0.069928</td>\n",
       "      <td>1369412.0</td>\n",
       "      <td>664921.0</td>\n",
       "      <td>632805.0</td>\n",
       "      <td>560224.0</td>\n",
       "      <td>348360.0</td>\n",
       "      <td>166323.0</td>\n",
       "      <td>-250804.0</td>\n",
       "      <td>2019</td>\n",
       "    </tr>\n",
       "  </tbody>\n",
       "</table>\n",
       "</div>"
      ],
      "text/plain": [
       "   NUM       RET        REC    EBITDA      EBIT      LAIR      LAOD        LL  \\\n",
       "0    1  0.274809    66895.0    5256.0    2732.0    1663.0    1709.0    1709.0   \n",
       "1    2  0.263549   528009.0  287487.0  205061.0  104794.0  105558.0  105558.0   \n",
       "2    3 -0.061674   262156.0   59898.0   30495.0   14020.0   10054.0    7442.0   \n",
       "3    4  0.226506   756219.0  206293.0  176078.0  240410.0  182058.0  118428.0   \n",
       "4    5  0.069928  1369412.0  664921.0  632805.0  560224.0  348360.0  166323.0   \n",
       "\n",
       "        FCO   ANO  \n",
       "0  -47884.0  2019  \n",
       "1  161816.0  2019  \n",
       "2   61421.0  2019  \n",
       "3  202109.0  2019  \n",
       "4 -250804.0  2019  "
      ]
     },
     "execution_count": 2,
     "metadata": {},
     "output_type": "execute_result"
    }
   ],
   "source": [
    "caminho = 'DadosB3.xls'\n",
    "dados = pd.read_excel(caminho)\n",
    "dados.head()"
   ]
  },
  {
   "cell_type": "markdown",
   "metadata": {},
   "source": [
    "### Observando as dimensões do dataframe - linhas e colunas"
   ]
  },
  {
   "cell_type": "code",
   "execution_count": 3,
   "metadata": {},
   "outputs": [
    {
     "data": {
      "text/plain": [
       "(6817, 10)"
      ]
     },
     "execution_count": 3,
     "metadata": {},
     "output_type": "execute_result"
    }
   ],
   "source": [
    "dados.shape"
   ]
  },
  {
   "cell_type": "code",
   "execution_count": 4,
   "metadata": {},
   "outputs": [
    {
     "data": {
      "text/html": [
       "<div>\n",
       "<style scoped>\n",
       "    .dataframe tbody tr th:only-of-type {\n",
       "        vertical-align: middle;\n",
       "    }\n",
       "\n",
       "    .dataframe tbody tr th {\n",
       "        vertical-align: top;\n",
       "    }\n",
       "\n",
       "    .dataframe thead th {\n",
       "        text-align: right;\n",
       "    }\n",
       "</style>\n",
       "<table border=\"1\" class=\"dataframe\">\n",
       "  <thead>\n",
       "    <tr style=\"text-align: right;\">\n",
       "      <th></th>\n",
       "      <th>NUM</th>\n",
       "      <th>RET</th>\n",
       "      <th>REC</th>\n",
       "      <th>EBITDA</th>\n",
       "      <th>EBIT</th>\n",
       "      <th>LAIR</th>\n",
       "      <th>LAOD</th>\n",
       "      <th>LL</th>\n",
       "      <th>FCO</th>\n",
       "      <th>ANO</th>\n",
       "    </tr>\n",
       "  </thead>\n",
       "  <tbody>\n",
       "    <tr>\n",
       "      <th>0</th>\n",
       "      <td>1</td>\n",
       "      <td>0.274809</td>\n",
       "      <td>66895.0</td>\n",
       "      <td>5256.0</td>\n",
       "      <td>2732.0</td>\n",
       "      <td>1663.0</td>\n",
       "      <td>1709.0</td>\n",
       "      <td>1709.0</td>\n",
       "      <td>-47884.0</td>\n",
       "      <td>2019</td>\n",
       "    </tr>\n",
       "    <tr>\n",
       "      <th>1</th>\n",
       "      <td>2</td>\n",
       "      <td>0.263549</td>\n",
       "      <td>528009.0</td>\n",
       "      <td>287487.0</td>\n",
       "      <td>205061.0</td>\n",
       "      <td>104794.0</td>\n",
       "      <td>105558.0</td>\n",
       "      <td>105558.0</td>\n",
       "      <td>161816.0</td>\n",
       "      <td>2019</td>\n",
       "    </tr>\n",
       "    <tr>\n",
       "      <th>2</th>\n",
       "      <td>3</td>\n",
       "      <td>-0.061674</td>\n",
       "      <td>262156.0</td>\n",
       "      <td>59898.0</td>\n",
       "      <td>30495.0</td>\n",
       "      <td>14020.0</td>\n",
       "      <td>10054.0</td>\n",
       "      <td>7442.0</td>\n",
       "      <td>61421.0</td>\n",
       "      <td>2019</td>\n",
       "    </tr>\n",
       "    <tr>\n",
       "      <th>3</th>\n",
       "      <td>4</td>\n",
       "      <td>0.226506</td>\n",
       "      <td>756219.0</td>\n",
       "      <td>206293.0</td>\n",
       "      <td>176078.0</td>\n",
       "      <td>240410.0</td>\n",
       "      <td>182058.0</td>\n",
       "      <td>118428.0</td>\n",
       "      <td>202109.0</td>\n",
       "      <td>2019</td>\n",
       "    </tr>\n",
       "    <tr>\n",
       "      <th>4</th>\n",
       "      <td>5</td>\n",
       "      <td>0.069928</td>\n",
       "      <td>1369412.0</td>\n",
       "      <td>664921.0</td>\n",
       "      <td>632805.0</td>\n",
       "      <td>560224.0</td>\n",
       "      <td>348360.0</td>\n",
       "      <td>166323.0</td>\n",
       "      <td>-250804.0</td>\n",
       "      <td>2019</td>\n",
       "    </tr>\n",
       "    <tr>\n",
       "      <th>...</th>\n",
       "      <td>...</td>\n",
       "      <td>...</td>\n",
       "      <td>...</td>\n",
       "      <td>...</td>\n",
       "      <td>...</td>\n",
       "      <td>...</td>\n",
       "      <td>...</td>\n",
       "      <td>...</td>\n",
       "      <td>...</td>\n",
       "      <td>...</td>\n",
       "    </tr>\n",
       "    <tr>\n",
       "      <th>6812</th>\n",
       "      <td>6813</td>\n",
       "      <td>0.062125</td>\n",
       "      <td>931907.0</td>\n",
       "      <td>184535.0</td>\n",
       "      <td>140388.0</td>\n",
       "      <td>127559.0</td>\n",
       "      <td>89819.0</td>\n",
       "      <td>119645.0</td>\n",
       "      <td>150487.0</td>\n",
       "      <td>2010</td>\n",
       "    </tr>\n",
       "    <tr>\n",
       "      <th>6813</th>\n",
       "      <td>6814</td>\n",
       "      <td>0.161394</td>\n",
       "      <td>52348.0</td>\n",
       "      <td>6824.0</td>\n",
       "      <td>5158.0</td>\n",
       "      <td>3017.0</td>\n",
       "      <td>2195.0</td>\n",
       "      <td>2195.0</td>\n",
       "      <td>-1877.0</td>\n",
       "      <td>2010</td>\n",
       "    </tr>\n",
       "    <tr>\n",
       "      <th>6814</th>\n",
       "      <td>6815</td>\n",
       "      <td>-0.011594</td>\n",
       "      <td>1870433.0</td>\n",
       "      <td>315364.0</td>\n",
       "      <td>289551.0</td>\n",
       "      <td>284485.0</td>\n",
       "      <td>230982.0</td>\n",
       "      <td>222822.0</td>\n",
       "      <td>282526.0</td>\n",
       "      <td>2010</td>\n",
       "    </tr>\n",
       "    <tr>\n",
       "      <th>6815</th>\n",
       "      <td>6816</td>\n",
       "      <td>0.080086</td>\n",
       "      <td>216258.0</td>\n",
       "      <td>42427.0</td>\n",
       "      <td>25427.0</td>\n",
       "      <td>18296.0</td>\n",
       "      <td>11075.0</td>\n",
       "      <td>11075.0</td>\n",
       "      <td>53062.0</td>\n",
       "      <td>2010</td>\n",
       "    </tr>\n",
       "    <tr>\n",
       "      <th>6816</th>\n",
       "      <td>6817</td>\n",
       "      <td>-0.148148</td>\n",
       "      <td>256023.0</td>\n",
       "      <td>30590.0</td>\n",
       "      <td>23205.0</td>\n",
       "      <td>26111.0</td>\n",
       "      <td>25438.0</td>\n",
       "      <td>25438.0</td>\n",
       "      <td>31971.0</td>\n",
       "      <td>2010</td>\n",
       "    </tr>\n",
       "  </tbody>\n",
       "</table>\n",
       "<p>6817 rows × 10 columns</p>\n",
       "</div>"
      ],
      "text/plain": [
       "       NUM       RET        REC    EBITDA      EBIT      LAIR      LAOD  \\\n",
       "0        1  0.274809    66895.0    5256.0    2732.0    1663.0    1709.0   \n",
       "1        2  0.263549   528009.0  287487.0  205061.0  104794.0  105558.0   \n",
       "2        3 -0.061674   262156.0   59898.0   30495.0   14020.0   10054.0   \n",
       "3        4  0.226506   756219.0  206293.0  176078.0  240410.0  182058.0   \n",
       "4        5  0.069928  1369412.0  664921.0  632805.0  560224.0  348360.0   \n",
       "...    ...       ...        ...       ...       ...       ...       ...   \n",
       "6812  6813  0.062125   931907.0  184535.0  140388.0  127559.0   89819.0   \n",
       "6813  6814  0.161394    52348.0    6824.0    5158.0    3017.0    2195.0   \n",
       "6814  6815 -0.011594  1870433.0  315364.0  289551.0  284485.0  230982.0   \n",
       "6815  6816  0.080086   216258.0   42427.0   25427.0   18296.0   11075.0   \n",
       "6816  6817 -0.148148   256023.0   30590.0   23205.0   26111.0   25438.0   \n",
       "\n",
       "            LL       FCO   ANO  \n",
       "0       1709.0  -47884.0  2019  \n",
       "1     105558.0  161816.0  2019  \n",
       "2       7442.0   61421.0  2019  \n",
       "3     118428.0  202109.0  2019  \n",
       "4     166323.0 -250804.0  2019  \n",
       "...        ...       ...   ...  \n",
       "6812  119645.0  150487.0  2010  \n",
       "6813    2195.0   -1877.0  2010  \n",
       "6814  222822.0  282526.0  2010  \n",
       "6815   11075.0   53062.0  2010  \n",
       "6816   25438.0   31971.0  2010  \n",
       "\n",
       "[6817 rows x 10 columns]"
      ]
     },
     "execution_count": 4,
     "metadata": {},
     "output_type": "execute_result"
    }
   ],
   "source": [
    "dados"
   ]
  },
  {
   "cell_type": "code",
   "execution_count": 5,
   "metadata": {},
   "outputs": [
    {
     "name": "stdout",
     "output_type": "stream",
     "text": [
      "<class 'pandas.core.frame.DataFrame'>\n",
      "RangeIndex: 6817 entries, 0 to 6816\n",
      "Data columns (total 10 columns):\n",
      " #   Column  Non-Null Count  Dtype  \n",
      "---  ------  --------------  -----  \n",
      " 0   NUM     6817 non-null   int64  \n",
      " 1   RET     6817 non-null   float64\n",
      " 2   REC     6817 non-null   float64\n",
      " 3   EBITDA  6817 non-null   float64\n",
      " 4   EBIT    6817 non-null   float64\n",
      " 5   LAIR    6817 non-null   float64\n",
      " 6   LAOD    6817 non-null   float64\n",
      " 7   LL      6817 non-null   float64\n",
      " 8   FCO     6817 non-null   float64\n",
      " 9   ANO     6817 non-null   int64  \n",
      "dtypes: float64(8), int64(2)\n",
      "memory usage: 532.7 KB\n"
     ]
    }
   ],
   "source": [
    "dados.info()"
   ]
  },
  {
   "cell_type": "code",
   "execution_count": null,
   "metadata": {},
   "outputs": [],
   "source": []
  },
  {
   "cell_type": "code",
   "execution_count": 6,
   "metadata": {},
   "outputs": [
    {
     "data": {
      "text/plain": [
       "NUM         int64\n",
       "RET       float64\n",
       "REC       float64\n",
       "EBITDA    float64\n",
       "EBIT      float64\n",
       "LAIR      float64\n",
       "LAOD      float64\n",
       "LL        float64\n",
       "FCO       float64\n",
       "ANO         int64\n",
       "dtype: object"
      ]
     },
     "execution_count": 6,
     "metadata": {},
     "output_type": "execute_result"
    }
   ],
   "source": [
    "dados.dtypes"
   ]
  },
  {
   "cell_type": "code",
   "execution_count": 7,
   "metadata": {},
   "outputs": [
    {
     "data": {
      "text/html": [
       "<div>\n",
       "<style scoped>\n",
       "    .dataframe tbody tr th:only-of-type {\n",
       "        vertical-align: middle;\n",
       "    }\n",
       "\n",
       "    .dataframe tbody tr th {\n",
       "        vertical-align: top;\n",
       "    }\n",
       "\n",
       "    .dataframe thead th {\n",
       "        text-align: right;\n",
       "    }\n",
       "</style>\n",
       "<table border=\"1\" class=\"dataframe\">\n",
       "  <thead>\n",
       "    <tr style=\"text-align: right;\">\n",
       "      <th></th>\n",
       "      <th>NUM</th>\n",
       "      <th>RET</th>\n",
       "      <th>REC</th>\n",
       "      <th>EBITDA</th>\n",
       "      <th>EBIT</th>\n",
       "      <th>LAIR</th>\n",
       "      <th>LAOD</th>\n",
       "      <th>LL</th>\n",
       "      <th>FCO</th>\n",
       "      <th>ANO</th>\n",
       "    </tr>\n",
       "  </thead>\n",
       "  <tbody>\n",
       "    <tr>\n",
       "      <th>count</th>\n",
       "      <td>6817.000000</td>\n",
       "      <td>6817.000000</td>\n",
       "      <td>6.817000e+03</td>\n",
       "      <td>6.817000e+03</td>\n",
       "      <td>6.817000e+03</td>\n",
       "      <td>6.817000e+03</td>\n",
       "      <td>6.817000e+03</td>\n",
       "      <td>6.817000e+03</td>\n",
       "      <td>6.817000e+03</td>\n",
       "      <td>6817.000000</td>\n",
       "    </tr>\n",
       "    <tr>\n",
       "      <th>mean</th>\n",
       "      <td>3409.000000</td>\n",
       "      <td>-0.016621</td>\n",
       "      <td>2.139960e+06</td>\n",
       "      <td>4.066918e+05</td>\n",
       "      <td>2.498605e+05</td>\n",
       "      <td>1.431239e+05</td>\n",
       "      <td>1.018608e+05</td>\n",
       "      <td>9.894324e+04</td>\n",
       "      <td>3.438234e+05</td>\n",
       "      <td>2014.748276</td>\n",
       "    </tr>\n",
       "    <tr>\n",
       "      <th>std</th>\n",
       "      <td>1968.042725</td>\n",
       "      <td>0.296684</td>\n",
       "      <td>6.919675e+06</td>\n",
       "      <td>1.985561e+06</td>\n",
       "      <td>1.524561e+06</td>\n",
       "      <td>1.492767e+06</td>\n",
       "      <td>1.191814e+06</td>\n",
       "      <td>1.186449e+06</td>\n",
       "      <td>1.758761e+06</td>\n",
       "      <td>2.850646</td>\n",
       "    </tr>\n",
       "    <tr>\n",
       "      <th>min</th>\n",
       "      <td>1.000000</td>\n",
       "      <td>-6.559322</td>\n",
       "      <td>-8.485330e+05</td>\n",
       "      <td>-3.151265e+07</td>\n",
       "      <td>-4.223400e+07</td>\n",
       "      <td>-4.716200e+07</td>\n",
       "      <td>-3.558200e+07</td>\n",
       "      <td>-3.693800e+07</td>\n",
       "      <td>-1.024331e+07</td>\n",
       "      <td>2010.000000</td>\n",
       "    </tr>\n",
       "    <tr>\n",
       "      <th>25%</th>\n",
       "      <td>1705.000000</td>\n",
       "      <td>-0.108616</td>\n",
       "      <td>1.424910e+05</td>\n",
       "      <td>9.884000e+03</td>\n",
       "      <td>3.728000e+03</td>\n",
       "      <td>-5.347000e+03</td>\n",
       "      <td>-4.595000e+03</td>\n",
       "      <td>-4.706000e+03</td>\n",
       "      <td>-1.000000e+00</td>\n",
       "      <td>2012.000000</td>\n",
       "    </tr>\n",
       "    <tr>\n",
       "      <th>50%</th>\n",
       "      <td>3409.000000</td>\n",
       "      <td>0.019355</td>\n",
       "      <td>4.177660e+05</td>\n",
       "      <td>6.794400e+04</td>\n",
       "      <td>4.518000e+04</td>\n",
       "      <td>2.524200e+04</td>\n",
       "      <td>1.928200e+04</td>\n",
       "      <td>1.879400e+04</td>\n",
       "      <td>3.640000e+04</td>\n",
       "      <td>2015.000000</td>\n",
       "    </tr>\n",
       "    <tr>\n",
       "      <th>75%</th>\n",
       "      <td>5113.000000</td>\n",
       "      <td>0.133929</td>\n",
       "      <td>1.407520e+06</td>\n",
       "      <td>2.735400e+05</td>\n",
       "      <td>1.936710e+05</td>\n",
       "      <td>1.283470e+05</td>\n",
       "      <td>9.776800e+04</td>\n",
       "      <td>9.274000e+04</td>\n",
       "      <td>1.898210e+05</td>\n",
       "      <td>2017.000000</td>\n",
       "    </tr>\n",
       "    <tr>\n",
       "      <th>max</th>\n",
       "      <td>6817.000000</td>\n",
       "      <td>1.946854</td>\n",
       "      <td>9.826000e+07</td>\n",
       "      <td>5.380500e+07</td>\n",
       "      <td>3.923700e+07</td>\n",
       "      <td>3.066100e+07</td>\n",
       "      <td>3.052641e+07</td>\n",
       "      <td>3.054336e+07</td>\n",
       "      <td>3.282400e+07</td>\n",
       "      <td>2019.000000</td>\n",
       "    </tr>\n",
       "  </tbody>\n",
       "</table>\n",
       "</div>"
      ],
      "text/plain": [
       "               NUM          RET           REC        EBITDA          EBIT  \\\n",
       "count  6817.000000  6817.000000  6.817000e+03  6.817000e+03  6.817000e+03   \n",
       "mean   3409.000000    -0.016621  2.139960e+06  4.066918e+05  2.498605e+05   \n",
       "std    1968.042725     0.296684  6.919675e+06  1.985561e+06  1.524561e+06   \n",
       "min       1.000000    -6.559322 -8.485330e+05 -3.151265e+07 -4.223400e+07   \n",
       "25%    1705.000000    -0.108616  1.424910e+05  9.884000e+03  3.728000e+03   \n",
       "50%    3409.000000     0.019355  4.177660e+05  6.794400e+04  4.518000e+04   \n",
       "75%    5113.000000     0.133929  1.407520e+06  2.735400e+05  1.936710e+05   \n",
       "max    6817.000000     1.946854  9.826000e+07  5.380500e+07  3.923700e+07   \n",
       "\n",
       "               LAIR          LAOD            LL           FCO          ANO  \n",
       "count  6.817000e+03  6.817000e+03  6.817000e+03  6.817000e+03  6817.000000  \n",
       "mean   1.431239e+05  1.018608e+05  9.894324e+04  3.438234e+05  2014.748276  \n",
       "std    1.492767e+06  1.191814e+06  1.186449e+06  1.758761e+06     2.850646  \n",
       "min   -4.716200e+07 -3.558200e+07 -3.693800e+07 -1.024331e+07  2010.000000  \n",
       "25%   -5.347000e+03 -4.595000e+03 -4.706000e+03 -1.000000e+00  2012.000000  \n",
       "50%    2.524200e+04  1.928200e+04  1.879400e+04  3.640000e+04  2015.000000  \n",
       "75%    1.283470e+05  9.776800e+04  9.274000e+04  1.898210e+05  2017.000000  \n",
       "max    3.066100e+07  3.052641e+07  3.054336e+07  3.282400e+07  2019.000000  "
      ]
     },
     "execution_count": 7,
     "metadata": {},
     "output_type": "execute_result"
    }
   ],
   "source": [
    "dados.describe()"
   ]
  },
  {
   "cell_type": "markdown",
   "metadata": {},
   "source": [
    "### Vendo o nome das colunas do dataframe"
   ]
  },
  {
   "cell_type": "code",
   "execution_count": 8,
   "metadata": {},
   "outputs": [
    {
     "data": {
      "text/plain": [
       "array(['NUM', 'RET', 'REC', 'EBITDA', 'EBIT', 'LAIR', 'LAOD', 'LL', 'FCO',\n",
       "       'ANO'], dtype=object)"
      ]
     },
     "execution_count": 8,
     "metadata": {},
     "output_type": "execute_result"
    }
   ],
   "source": [
    "dados.columns.values"
   ]
  },
  {
   "cell_type": "markdown",
   "metadata": {},
   "source": [
    "### Selecionando SubConjuntos do Dataframe"
   ]
  },
  {
   "cell_type": "markdown",
   "metadata": {},
   "source": [
    "Um subconjunto bidimensional de um dataframe, também será um dataframe.\n",
    "\n",
    "Quando este subconjunto for unidimensional o seu tipo será um objeto do tipo Pandas Series. Diversos são as operações disponíveis para lidar com Series. \n",
    "\n",
    "Veja a documentação em: https://pandas.pydata.org/pandas-docs/stable/reference/series.html  "
   ]
  },
  {
   "cell_type": "code",
   "execution_count": 9,
   "metadata": {},
   "outputs": [
    {
     "data": {
      "text/plain": [
       "0         1709.0\n",
       "1       105558.0\n",
       "2         7442.0\n",
       "3       118428.0\n",
       "4       166323.0\n",
       "          ...   \n",
       "6812    119645.0\n",
       "6813      2195.0\n",
       "6814    222822.0\n",
       "6815     11075.0\n",
       "6816     25438.0\n",
       "Name: LL, Length: 6817, dtype: float64"
      ]
     },
     "execution_count": 9,
     "metadata": {},
     "output_type": "execute_result"
    }
   ],
   "source": [
    "dados['LL']"
   ]
  },
  {
   "cell_type": "code",
   "execution_count": 10,
   "metadata": {},
   "outputs": [
    {
     "data": {
      "text/plain": [
       "0         1709.0\n",
       "1       105558.0\n",
       "2         7442.0\n",
       "3       118428.0\n",
       "4       166323.0\n",
       "          ...   \n",
       "6812    119645.0\n",
       "6813      2195.0\n",
       "6814    222822.0\n",
       "6815     11075.0\n",
       "6816     25438.0\n",
       "Name: LL, Length: 6817, dtype: float64"
      ]
     },
     "execution_count": 10,
     "metadata": {},
     "output_type": "execute_result"
    }
   ],
   "source": [
    "dados.LL"
   ]
  },
  {
   "cell_type": "code",
   "execution_count": 11,
   "metadata": {},
   "outputs": [
    {
     "data": {
      "text/html": [
       "<div>\n",
       "<style scoped>\n",
       "    .dataframe tbody tr th:only-of-type {\n",
       "        vertical-align: middle;\n",
       "    }\n",
       "\n",
       "    .dataframe tbody tr th {\n",
       "        vertical-align: top;\n",
       "    }\n",
       "\n",
       "    .dataframe thead th {\n",
       "        text-align: right;\n",
       "    }\n",
       "</style>\n",
       "<table border=\"1\" class=\"dataframe\">\n",
       "  <thead>\n",
       "    <tr style=\"text-align: right;\">\n",
       "      <th></th>\n",
       "      <th>RET</th>\n",
       "      <th>LL</th>\n",
       "    </tr>\n",
       "  </thead>\n",
       "  <tbody>\n",
       "    <tr>\n",
       "      <th>0</th>\n",
       "      <td>0.274809</td>\n",
       "      <td>1709.0</td>\n",
       "    </tr>\n",
       "    <tr>\n",
       "      <th>1</th>\n",
       "      <td>0.263549</td>\n",
       "      <td>105558.0</td>\n",
       "    </tr>\n",
       "    <tr>\n",
       "      <th>2</th>\n",
       "      <td>-0.061674</td>\n",
       "      <td>7442.0</td>\n",
       "    </tr>\n",
       "    <tr>\n",
       "      <th>3</th>\n",
       "      <td>0.226506</td>\n",
       "      <td>118428.0</td>\n",
       "    </tr>\n",
       "    <tr>\n",
       "      <th>4</th>\n",
       "      <td>0.069928</td>\n",
       "      <td>166323.0</td>\n",
       "    </tr>\n",
       "    <tr>\n",
       "      <th>...</th>\n",
       "      <td>...</td>\n",
       "      <td>...</td>\n",
       "    </tr>\n",
       "    <tr>\n",
       "      <th>6812</th>\n",
       "      <td>0.062125</td>\n",
       "      <td>119645.0</td>\n",
       "    </tr>\n",
       "    <tr>\n",
       "      <th>6813</th>\n",
       "      <td>0.161394</td>\n",
       "      <td>2195.0</td>\n",
       "    </tr>\n",
       "    <tr>\n",
       "      <th>6814</th>\n",
       "      <td>-0.011594</td>\n",
       "      <td>222822.0</td>\n",
       "    </tr>\n",
       "    <tr>\n",
       "      <th>6815</th>\n",
       "      <td>0.080086</td>\n",
       "      <td>11075.0</td>\n",
       "    </tr>\n",
       "    <tr>\n",
       "      <th>6816</th>\n",
       "      <td>-0.148148</td>\n",
       "      <td>25438.0</td>\n",
       "    </tr>\n",
       "  </tbody>\n",
       "</table>\n",
       "<p>6817 rows × 2 columns</p>\n",
       "</div>"
      ],
      "text/plain": [
       "           RET        LL\n",
       "0     0.274809    1709.0\n",
       "1     0.263549  105558.0\n",
       "2    -0.061674    7442.0\n",
       "3     0.226506  118428.0\n",
       "4     0.069928  166323.0\n",
       "...        ...       ...\n",
       "6812  0.062125  119645.0\n",
       "6813  0.161394    2195.0\n",
       "6814 -0.011594  222822.0\n",
       "6815  0.080086   11075.0\n",
       "6816 -0.148148   25438.0\n",
       "\n",
       "[6817 rows x 2 columns]"
      ]
     },
     "execution_count": 11,
     "metadata": {},
     "output_type": "execute_result"
    }
   ],
   "source": [
    "sub = dados[['RET', 'LL']].copy()\n",
    "sub"
   ]
  },
  {
   "cell_type": "code",
   "execution_count": 12,
   "metadata": {},
   "outputs": [
    {
     "data": {
      "text/html": [
       "<div>\n",
       "<style scoped>\n",
       "    .dataframe tbody tr th:only-of-type {\n",
       "        vertical-align: middle;\n",
       "    }\n",
       "\n",
       "    .dataframe tbody tr th {\n",
       "        vertical-align: top;\n",
       "    }\n",
       "\n",
       "    .dataframe thead th {\n",
       "        text-align: right;\n",
       "    }\n",
       "</style>\n",
       "<table border=\"1\" class=\"dataframe\">\n",
       "  <thead>\n",
       "    <tr style=\"text-align: right;\">\n",
       "      <th></th>\n",
       "      <th>NUM</th>\n",
       "      <th>RET</th>\n",
       "      <th>REC</th>\n",
       "      <th>EBITDA</th>\n",
       "      <th>EBIT</th>\n",
       "      <th>LAIR</th>\n",
       "      <th>LAOD</th>\n",
       "      <th>LL</th>\n",
       "      <th>FCO</th>\n",
       "      <th>ANO</th>\n",
       "    </tr>\n",
       "  </thead>\n",
       "  <tbody>\n",
       "    <tr>\n",
       "      <th>0</th>\n",
       "      <td>1</td>\n",
       "      <td>0.274809</td>\n",
       "      <td>66895.0</td>\n",
       "      <td>5256.0</td>\n",
       "      <td>2732.0</td>\n",
       "      <td>1663.0</td>\n",
       "      <td>1709.0</td>\n",
       "      <td>1709.0</td>\n",
       "      <td>-47884.0</td>\n",
       "      <td>2019</td>\n",
       "    </tr>\n",
       "    <tr>\n",
       "      <th>1</th>\n",
       "      <td>2</td>\n",
       "      <td>0.263549</td>\n",
       "      <td>528009.0</td>\n",
       "      <td>287487.0</td>\n",
       "      <td>205061.0</td>\n",
       "      <td>104794.0</td>\n",
       "      <td>105558.0</td>\n",
       "      <td>105558.0</td>\n",
       "      <td>161816.0</td>\n",
       "      <td>2019</td>\n",
       "    </tr>\n",
       "    <tr>\n",
       "      <th>2</th>\n",
       "      <td>3</td>\n",
       "      <td>-0.061674</td>\n",
       "      <td>262156.0</td>\n",
       "      <td>59898.0</td>\n",
       "      <td>30495.0</td>\n",
       "      <td>14020.0</td>\n",
       "      <td>10054.0</td>\n",
       "      <td>7442.0</td>\n",
       "      <td>61421.0</td>\n",
       "      <td>2019</td>\n",
       "    </tr>\n",
       "    <tr>\n",
       "      <th>3</th>\n",
       "      <td>4</td>\n",
       "      <td>0.226506</td>\n",
       "      <td>756219.0</td>\n",
       "      <td>206293.0</td>\n",
       "      <td>176078.0</td>\n",
       "      <td>240410.0</td>\n",
       "      <td>182058.0</td>\n",
       "      <td>118428.0</td>\n",
       "      <td>202109.0</td>\n",
       "      <td>2019</td>\n",
       "    </tr>\n",
       "    <tr>\n",
       "      <th>4</th>\n",
       "      <td>5</td>\n",
       "      <td>0.069928</td>\n",
       "      <td>1369412.0</td>\n",
       "      <td>664921.0</td>\n",
       "      <td>632805.0</td>\n",
       "      <td>560224.0</td>\n",
       "      <td>348360.0</td>\n",
       "      <td>166323.0</td>\n",
       "      <td>-250804.0</td>\n",
       "      <td>2019</td>\n",
       "    </tr>\n",
       "    <tr>\n",
       "      <th>...</th>\n",
       "      <td>...</td>\n",
       "      <td>...</td>\n",
       "      <td>...</td>\n",
       "      <td>...</td>\n",
       "      <td>...</td>\n",
       "      <td>...</td>\n",
       "      <td>...</td>\n",
       "      <td>...</td>\n",
       "      <td>...</td>\n",
       "      <td>...</td>\n",
       "    </tr>\n",
       "    <tr>\n",
       "      <th>747</th>\n",
       "      <td>748</td>\n",
       "      <td>0.243902</td>\n",
       "      <td>45107.0</td>\n",
       "      <td>-2517.0</td>\n",
       "      <td>-3641.0</td>\n",
       "      <td>-7045.0</td>\n",
       "      <td>-7144.0</td>\n",
       "      <td>-7141.0</td>\n",
       "      <td>-2496.0</td>\n",
       "      <td>2019</td>\n",
       "    </tr>\n",
       "    <tr>\n",
       "      <th>748</th>\n",
       "      <td>749</td>\n",
       "      <td>-0.068519</td>\n",
       "      <td>378846.0</td>\n",
       "      <td>123877.0</td>\n",
       "      <td>72882.0</td>\n",
       "      <td>51641.0</td>\n",
       "      <td>23744.0</td>\n",
       "      <td>21925.0</td>\n",
       "      <td>100288.0</td>\n",
       "      <td>2019</td>\n",
       "    </tr>\n",
       "    <tr>\n",
       "      <th>749</th>\n",
       "      <td>750</td>\n",
       "      <td>0.242921</td>\n",
       "      <td>187596.0</td>\n",
       "      <td>10093.0</td>\n",
       "      <td>9317.0</td>\n",
       "      <td>9145.0</td>\n",
       "      <td>6664.0</td>\n",
       "      <td>6630.0</td>\n",
       "      <td>-2681.0</td>\n",
       "      <td>2019</td>\n",
       "    </tr>\n",
       "    <tr>\n",
       "      <th>750</th>\n",
       "      <td>751</td>\n",
       "      <td>0.065789</td>\n",
       "      <td>932626.0</td>\n",
       "      <td>384633.0</td>\n",
       "      <td>291001.0</td>\n",
       "      <td>246746.0</td>\n",
       "      <td>240797.0</td>\n",
       "      <td>240797.0</td>\n",
       "      <td>200719.0</td>\n",
       "      <td>2019</td>\n",
       "    </tr>\n",
       "    <tr>\n",
       "      <th>751</th>\n",
       "      <td>752</td>\n",
       "      <td>-0.100233</td>\n",
       "      <td>63152.0</td>\n",
       "      <td>7291.0</td>\n",
       "      <td>4331.0</td>\n",
       "      <td>731.0</td>\n",
       "      <td>2513.0</td>\n",
       "      <td>2513.0</td>\n",
       "      <td>60716.0</td>\n",
       "      <td>2018</td>\n",
       "    </tr>\n",
       "  </tbody>\n",
       "</table>\n",
       "<p>752 rows × 10 columns</p>\n",
       "</div>"
      ],
      "text/plain": [
       "     NUM       RET        REC    EBITDA      EBIT      LAIR      LAOD  \\\n",
       "0      1  0.274809    66895.0    5256.0    2732.0    1663.0    1709.0   \n",
       "1      2  0.263549   528009.0  287487.0  205061.0  104794.0  105558.0   \n",
       "2      3 -0.061674   262156.0   59898.0   30495.0   14020.0   10054.0   \n",
       "3      4  0.226506   756219.0  206293.0  176078.0  240410.0  182058.0   \n",
       "4      5  0.069928  1369412.0  664921.0  632805.0  560224.0  348360.0   \n",
       "..   ...       ...        ...       ...       ...       ...       ...   \n",
       "747  748  0.243902    45107.0   -2517.0   -3641.0   -7045.0   -7144.0   \n",
       "748  749 -0.068519   378846.0  123877.0   72882.0   51641.0   23744.0   \n",
       "749  750  0.242921   187596.0   10093.0    9317.0    9145.0    6664.0   \n",
       "750  751  0.065789   932626.0  384633.0  291001.0  246746.0  240797.0   \n",
       "751  752 -0.100233    63152.0    7291.0    4331.0     731.0    2513.0   \n",
       "\n",
       "           LL       FCO   ANO  \n",
       "0      1709.0  -47884.0  2019  \n",
       "1    105558.0  161816.0  2019  \n",
       "2      7442.0   61421.0  2019  \n",
       "3    118428.0  202109.0  2019  \n",
       "4    166323.0 -250804.0  2019  \n",
       "..        ...       ...   ...  \n",
       "747   -7141.0   -2496.0  2019  \n",
       "748   21925.0  100288.0  2019  \n",
       "749    6630.0   -2681.0  2019  \n",
       "750  240797.0  200719.0  2019  \n",
       "751    2513.0   60716.0  2018  \n",
       "\n",
       "[752 rows x 10 columns]"
      ]
     },
     "execution_count": 12,
     "metadata": {},
     "output_type": "execute_result"
    }
   ],
   "source": [
    "dados[0:752]"
   ]
  },
  {
   "cell_type": "code",
   "execution_count": 13,
   "metadata": {},
   "outputs": [
    {
     "data": {
      "text/html": [
       "<div>\n",
       "<style scoped>\n",
       "    .dataframe tbody tr th:only-of-type {\n",
       "        vertical-align: middle;\n",
       "    }\n",
       "\n",
       "    .dataframe tbody tr th {\n",
       "        vertical-align: top;\n",
       "    }\n",
       "\n",
       "    .dataframe thead th {\n",
       "        text-align: right;\n",
       "    }\n",
       "</style>\n",
       "<table border=\"1\" class=\"dataframe\">\n",
       "  <thead>\n",
       "    <tr style=\"text-align: right;\">\n",
       "      <th></th>\n",
       "      <th>REC</th>\n",
       "      <th>EBITDA</th>\n",
       "    </tr>\n",
       "  </thead>\n",
       "  <tbody>\n",
       "    <tr>\n",
       "      <th>0</th>\n",
       "      <td>66895.0</td>\n",
       "      <td>5256.0</td>\n",
       "    </tr>\n",
       "    <tr>\n",
       "      <th>1</th>\n",
       "      <td>528009.0</td>\n",
       "      <td>287487.0</td>\n",
       "    </tr>\n",
       "    <tr>\n",
       "      <th>2</th>\n",
       "      <td>262156.0</td>\n",
       "      <td>59898.0</td>\n",
       "    </tr>\n",
       "    <tr>\n",
       "      <th>3</th>\n",
       "      <td>756219.0</td>\n",
       "      <td>206293.0</td>\n",
       "    </tr>\n",
       "    <tr>\n",
       "      <th>4</th>\n",
       "      <td>1369412.0</td>\n",
       "      <td>664921.0</td>\n",
       "    </tr>\n",
       "    <tr>\n",
       "      <th>...</th>\n",
       "      <td>...</td>\n",
       "      <td>...</td>\n",
       "    </tr>\n",
       "    <tr>\n",
       "      <th>747</th>\n",
       "      <td>45107.0</td>\n",
       "      <td>-2517.0</td>\n",
       "    </tr>\n",
       "    <tr>\n",
       "      <th>748</th>\n",
       "      <td>378846.0</td>\n",
       "      <td>123877.0</td>\n",
       "    </tr>\n",
       "    <tr>\n",
       "      <th>749</th>\n",
       "      <td>187596.0</td>\n",
       "      <td>10093.0</td>\n",
       "    </tr>\n",
       "    <tr>\n",
       "      <th>750</th>\n",
       "      <td>932626.0</td>\n",
       "      <td>384633.0</td>\n",
       "    </tr>\n",
       "    <tr>\n",
       "      <th>751</th>\n",
       "      <td>63152.0</td>\n",
       "      <td>7291.0</td>\n",
       "    </tr>\n",
       "  </tbody>\n",
       "</table>\n",
       "<p>752 rows × 2 columns</p>\n",
       "</div>"
      ],
      "text/plain": [
       "           REC    EBITDA\n",
       "0      66895.0    5256.0\n",
       "1     528009.0  287487.0\n",
       "2     262156.0   59898.0\n",
       "3     756219.0  206293.0\n",
       "4    1369412.0  664921.0\n",
       "..         ...       ...\n",
       "747    45107.0   -2517.0\n",
       "748   378846.0  123877.0\n",
       "749   187596.0   10093.0\n",
       "750   932626.0  384633.0\n",
       "751    63152.0    7291.0\n",
       "\n",
       "[752 rows x 2 columns]"
      ]
     },
     "execution_count": 13,
     "metadata": {},
     "output_type": "execute_result"
    }
   ],
   "source": [
    "dados.iloc[0:752, 2:4]"
   ]
  },
  {
   "cell_type": "markdown",
   "metadata": {},
   "source": [
    "### Selecionando apenas retornos postivos para os acionistas e resultado positvo da empresa"
   ]
  },
  {
   "cell_type": "code",
   "execution_count": 14,
   "metadata": {},
   "outputs": [
    {
     "data": {
      "text/html": [
       "<div>\n",
       "<style scoped>\n",
       "    .dataframe tbody tr th:only-of-type {\n",
       "        vertical-align: middle;\n",
       "    }\n",
       "\n",
       "    .dataframe tbody tr th {\n",
       "        vertical-align: top;\n",
       "    }\n",
       "\n",
       "    .dataframe thead th {\n",
       "        text-align: right;\n",
       "    }\n",
       "</style>\n",
       "<table border=\"1\" class=\"dataframe\">\n",
       "  <thead>\n",
       "    <tr style=\"text-align: right;\">\n",
       "      <th></th>\n",
       "      <th>NUM</th>\n",
       "      <th>RET</th>\n",
       "      <th>REC</th>\n",
       "      <th>EBITDA</th>\n",
       "      <th>EBIT</th>\n",
       "      <th>LAIR</th>\n",
       "      <th>LAOD</th>\n",
       "      <th>LL</th>\n",
       "      <th>FCO</th>\n",
       "      <th>ANO</th>\n",
       "    </tr>\n",
       "  </thead>\n",
       "  <tbody>\n",
       "    <tr>\n",
       "      <th>0</th>\n",
       "      <td>1</td>\n",
       "      <td>0.274809</td>\n",
       "      <td>66895.0</td>\n",
       "      <td>5256.0</td>\n",
       "      <td>2732.0</td>\n",
       "      <td>1663.0</td>\n",
       "      <td>1709.0</td>\n",
       "      <td>1709.0</td>\n",
       "      <td>-47884.0</td>\n",
       "      <td>2019</td>\n",
       "    </tr>\n",
       "    <tr>\n",
       "      <th>1</th>\n",
       "      <td>2</td>\n",
       "      <td>0.263549</td>\n",
       "      <td>528009.0</td>\n",
       "      <td>287487.0</td>\n",
       "      <td>205061.0</td>\n",
       "      <td>104794.0</td>\n",
       "      <td>105558.0</td>\n",
       "      <td>105558.0</td>\n",
       "      <td>161816.0</td>\n",
       "      <td>2019</td>\n",
       "    </tr>\n",
       "    <tr>\n",
       "      <th>3</th>\n",
       "      <td>4</td>\n",
       "      <td>0.226506</td>\n",
       "      <td>756219.0</td>\n",
       "      <td>206293.0</td>\n",
       "      <td>176078.0</td>\n",
       "      <td>240410.0</td>\n",
       "      <td>182058.0</td>\n",
       "      <td>118428.0</td>\n",
       "      <td>202109.0</td>\n",
       "      <td>2019</td>\n",
       "    </tr>\n",
       "    <tr>\n",
       "      <th>4</th>\n",
       "      <td>5</td>\n",
       "      <td>0.069928</td>\n",
       "      <td>1369412.0</td>\n",
       "      <td>664921.0</td>\n",
       "      <td>632805.0</td>\n",
       "      <td>560224.0</td>\n",
       "      <td>348360.0</td>\n",
       "      <td>166323.0</td>\n",
       "      <td>-250804.0</td>\n",
       "      <td>2019</td>\n",
       "    </tr>\n",
       "    <tr>\n",
       "      <th>5</th>\n",
       "      <td>6</td>\n",
       "      <td>0.018467</td>\n",
       "      <td>15856798.0</td>\n",
       "      <td>6583427.0</td>\n",
       "      <td>5319312.0</td>\n",
       "      <td>3755048.0</td>\n",
       "      <td>4218978.0</td>\n",
       "      <td>4099705.0</td>\n",
       "      <td>9634853.0</td>\n",
       "      <td>2019</td>\n",
       "    </tr>\n",
       "    <tr>\n",
       "      <th>...</th>\n",
       "      <td>...</td>\n",
       "      <td>...</td>\n",
       "      <td>...</td>\n",
       "      <td>...</td>\n",
       "      <td>...</td>\n",
       "      <td>...</td>\n",
       "      <td>...</td>\n",
       "      <td>...</td>\n",
       "      <td>...</td>\n",
       "      <td>...</td>\n",
       "    </tr>\n",
       "    <tr>\n",
       "      <th>6807</th>\n",
       "      <td>6808</td>\n",
       "      <td>0.194227</td>\n",
       "      <td>3042799.0</td>\n",
       "      <td>759185.0</td>\n",
       "      <td>559204.0</td>\n",
       "      <td>439587.0</td>\n",
       "      <td>328786.0</td>\n",
       "      <td>318906.0</td>\n",
       "      <td>413708.0</td>\n",
       "      <td>2010</td>\n",
       "    </tr>\n",
       "    <tr>\n",
       "      <th>6808</th>\n",
       "      <td>6809</td>\n",
       "      <td>0.133858</td>\n",
       "      <td>12583322.0</td>\n",
       "      <td>5167621.0</td>\n",
       "      <td>3807316.0</td>\n",
       "      <td>2470616.0</td>\n",
       "      <td>2824063.0</td>\n",
       "      <td>2879344.0</td>\n",
       "      <td>2465127.0</td>\n",
       "      <td>2010</td>\n",
       "    </tr>\n",
       "    <tr>\n",
       "      <th>6812</th>\n",
       "      <td>6813</td>\n",
       "      <td>0.062125</td>\n",
       "      <td>931907.0</td>\n",
       "      <td>184535.0</td>\n",
       "      <td>140388.0</td>\n",
       "      <td>127559.0</td>\n",
       "      <td>89819.0</td>\n",
       "      <td>119645.0</td>\n",
       "      <td>150487.0</td>\n",
       "      <td>2010</td>\n",
       "    </tr>\n",
       "    <tr>\n",
       "      <th>6813</th>\n",
       "      <td>6814</td>\n",
       "      <td>0.161394</td>\n",
       "      <td>52348.0</td>\n",
       "      <td>6824.0</td>\n",
       "      <td>5158.0</td>\n",
       "      <td>3017.0</td>\n",
       "      <td>2195.0</td>\n",
       "      <td>2195.0</td>\n",
       "      <td>-1877.0</td>\n",
       "      <td>2010</td>\n",
       "    </tr>\n",
       "    <tr>\n",
       "      <th>6815</th>\n",
       "      <td>6816</td>\n",
       "      <td>0.080086</td>\n",
       "      <td>216258.0</td>\n",
       "      <td>42427.0</td>\n",
       "      <td>25427.0</td>\n",
       "      <td>18296.0</td>\n",
       "      <td>11075.0</td>\n",
       "      <td>11075.0</td>\n",
       "      <td>53062.0</td>\n",
       "      <td>2010</td>\n",
       "    </tr>\n",
       "  </tbody>\n",
       "</table>\n",
       "<p>2872 rows × 10 columns</p>\n",
       "</div>"
      ],
      "text/plain": [
       "       NUM       RET         REC     EBITDA       EBIT       LAIR       LAOD  \\\n",
       "0        1  0.274809     66895.0     5256.0     2732.0     1663.0     1709.0   \n",
       "1        2  0.263549    528009.0   287487.0   205061.0   104794.0   105558.0   \n",
       "3        4  0.226506    756219.0   206293.0   176078.0   240410.0   182058.0   \n",
       "4        5  0.069928   1369412.0   664921.0   632805.0   560224.0   348360.0   \n",
       "5        6  0.018467  15856798.0  6583427.0  5319312.0  3755048.0  4218978.0   \n",
       "...    ...       ...         ...        ...        ...        ...        ...   \n",
       "6807  6808  0.194227   3042799.0   759185.0   559204.0   439587.0   328786.0   \n",
       "6808  6809  0.133858  12583322.0  5167621.0  3807316.0  2470616.0  2824063.0   \n",
       "6812  6813  0.062125    931907.0   184535.0   140388.0   127559.0    89819.0   \n",
       "6813  6814  0.161394     52348.0     6824.0     5158.0     3017.0     2195.0   \n",
       "6815  6816  0.080086    216258.0    42427.0    25427.0    18296.0    11075.0   \n",
       "\n",
       "             LL        FCO   ANO  \n",
       "0        1709.0   -47884.0  2019  \n",
       "1      105558.0   161816.0  2019  \n",
       "3      118428.0   202109.0  2019  \n",
       "4      166323.0  -250804.0  2019  \n",
       "5     4099705.0  9634853.0  2019  \n",
       "...         ...        ...   ...  \n",
       "6807   318906.0   413708.0  2010  \n",
       "6808  2879344.0  2465127.0  2010  \n",
       "6812   119645.0   150487.0  2010  \n",
       "6813     2195.0    -1877.0  2010  \n",
       "6815    11075.0    53062.0  2010  \n",
       "\n",
       "[2872 rows x 10 columns]"
      ]
     },
     "execution_count": 14,
     "metadata": {},
     "output_type": "execute_result"
    }
   ],
   "source": [
    "dados.query('RET > 0 & LL > 0')"
   ]
  },
  {
   "cell_type": "markdown",
   "metadata": {},
   "source": [
    "### Identificando o domínio de uma coluna"
   ]
  },
  {
   "cell_type": "code",
   "execution_count": 15,
   "metadata": {},
   "outputs": [
    {
     "data": {
      "text/plain": [
       "array([2019, 2018, 2017, 2016, 2015, 2014, 2013, 2012, 2011, 2010],\n",
       "      dtype=int64)"
      ]
     },
     "execution_count": 15,
     "metadata": {},
     "output_type": "execute_result"
    }
   ],
   "source": [
    "dados.ANO.unique()"
   ]
  },
  {
   "cell_type": "code",
   "execution_count": 16,
   "metadata": {},
   "outputs": [
    {
     "data": {
      "text/plain": [
       "10"
      ]
     },
     "execution_count": 16,
     "metadata": {},
     "output_type": "execute_result"
    }
   ],
   "source": [
    "dados.ANO.unique().size"
   ]
  },
  {
   "cell_type": "markdown",
   "metadata": {},
   "source": [
    "### Verificando de quantidade de amostras por ano"
   ]
  },
  {
   "cell_type": "code",
   "execution_count": 17,
   "metadata": {},
   "outputs": [
    {
     "data": {
      "text/plain": [
       "2018    760\n",
       "2019    751\n",
       "2017    751\n",
       "2016    718\n",
       "2015    694\n",
       "2014    666\n",
       "2013    642\n",
       "2012    639\n",
       "2011    627\n",
       "2010    569\n",
       "Name: ANO, dtype: int64"
      ]
     },
     "execution_count": 17,
     "metadata": {},
     "output_type": "execute_result"
    }
   ],
   "source": [
    "dados.ANO.value_counts()"
   ]
  },
  {
   "cell_type": "code",
   "execution_count": null,
   "metadata": {},
   "outputs": [],
   "source": []
  },
  {
   "cell_type": "markdown",
   "metadata": {},
   "source": []
  },
  {
   "cell_type": "code",
   "execution_count": null,
   "metadata": {},
   "outputs": [],
   "source": []
  },
  {
   "cell_type": "markdown",
   "metadata": {},
   "source": [
    "## Avaliação Visual Com Histograma"
   ]
  },
  {
   "cell_type": "markdown",
   "metadata": {},
   "source": [
    "### \"Plot\" dos dados da coluna Retorno das ações"
   ]
  },
  {
   "cell_type": "code",
   "execution_count": 18,
   "metadata": {},
   "outputs": [
    {
     "data": {
      "text/plain": [
       "<AxesSubplot:>"
      ]
     },
     "execution_count": 18,
     "metadata": {},
     "output_type": "execute_result"
    },
    {
     "data": {
      "image/png": "[encoded data removed]",
      "text/plain": [
       "<Figure size 432x288 with 1 Axes>"
      ]
     },
     "metadata": {
      "needs_background": "light"
     },
     "output_type": "display_data"
    }
   ],
   "source": [
    "dados.RET.plot()"
   ]
  },
  {
   "cell_type": "markdown",
   "metadata": {},
   "source": [
    "### Avaliação Visual do Retorno das ações (Histograma)"
   ]
  },
  {
   "cell_type": "code",
   "execution_count": null,
   "metadata": {},
   "outputs": [],
   "source": [
    "import matplotlib.pyplot as plt\n",
    "import seaborn as sns\n",
    "\n",
    "sns.set()\n",
    "\n",
    "dados.RET.plot(bins=12, kind='hist', figsize=(12, 8))"
   ]
  },
  {
   "cell_type": "code",
   "execution_count": null,
   "metadata": {},
   "outputs": [],
   "source": []
  },
  {
   "cell_type": "code",
   "execution_count": null,
   "metadata": {},
   "outputs": [],
   "source": []
  },
  {
   "cell_type": "markdown",
   "metadata": {},
   "source": [
    "### Investigando Prejuízo por ano"
   ]
  },
  {
   "cell_type": "code",
   "execution_count": null,
   "metadata": {},
   "outputs": [],
   "source": [
    "dados.query('LL < 0').ANO.hist(bins=25)"
   ]
  },
  {
   "cell_type": "markdown",
   "metadata": {},
   "source": [
    "### Avaliação Empresas possivelmente inoperantes\n"
   ]
  },
  {
   "cell_type": "code",
   "execution_count": null,
   "metadata": {},
   "outputs": [],
   "source": [
    "dados.query('REC <=0 ').ANO.hist(bins=25)"
   ]
  },
  {
   "cell_type": "markdown",
   "metadata": {},
   "source": []
  },
  {
   "cell_type": "code",
   "execution_count": null,
   "metadata": {},
   "outputs": [],
   "source": [
    "dados.query('REC <= 0').ANO.value_counts()"
   ]
  },
  {
   "cell_type": "markdown",
   "metadata": {},
   "source": [
    "### Avaliação Visual das empresas com problemas de caixa"
   ]
  },
  {
   "cell_type": "code",
   "execution_count": null,
   "metadata": {},
   "outputs": [],
   "source": [
    "dados.query('FCO <= 0').ANO.hist(bins=25)"
   ]
  },
  {
   "cell_type": "code",
   "execution_count": null,
   "metadata": {},
   "outputs": [],
   "source": [
    "dados.query('FCO <= 0').ANO.value_counts()"
   ]
  },
  {
   "cell_type": "markdown",
   "metadata": {},
   "source": [
    "### Agrupando Lucro médio por ano e Retorno médio por ano"
   ]
  },
  {
   "cell_type": "code",
   "execution_count": null,
   "metadata": {},
   "outputs": [],
   "source": [
    "dados.head()\n",
    "dados.groupby(\"ANO\").LL.mean().round(2)"
   ]
  },
  {
   "cell_type": "code",
   "execution_count": null,
   "metadata": {},
   "outputs": [],
   "source": [
    "dados.head()\n",
    "dados.groupby(\"ANO\").RET.mean().round(2)"
   ]
  },
  {
   "cell_type": "markdown",
   "metadata": {},
   "source": [
    "### Criando Categorias por faixas de valores"
   ]
  },
  {
   "cell_type": "code",
   "execution_count": null,
   "metadata": {},
   "outputs": [],
   "source": [
    "print(dados.RET.min())\n",
    "print(dados.RET.max())"
   ]
  },
  {
   "cell_type": "code",
   "execution_count": null,
   "metadata": {},
   "outputs": [],
   "source": [
    "faixas=[-7, -5, -3, 0, 1, 2]\n",
    "rotulos = ['-7 a -5', '-5 a -3', '-3 a 0', '0 a 1', '1 a 2']\n",
    "redacao_classes = pd.cut(x=dados.RET, bins=faixas, labels=rotulos, include_lowest=False)\n",
    "redacao_classes.value_counts(sort=False, normalize=False) * 100"
   ]
  },
  {
   "cell_type": "code",
   "execution_count": null,
   "metadata": {},
   "outputs": [],
   "source": []
  },
  {
   "cell_type": "markdown",
   "metadata": {},
   "source": [
    "## Resumindo os dados"
   ]
  },
  {
   "cell_type": "markdown",
   "metadata": {},
   "source": [
    "### Medidas de Tendência Central "
   ]
  },
  {
   "cell_type": "code",
   "execution_count": null,
   "metadata": {},
   "outputs": [],
   "source": [
    "print(dados.RET.mean())\n",
    "print(dados.RET.median())\n",
    "#print(dados.RET.mode())"
   ]
  },
  {
   "cell_type": "markdown",
   "metadata": {},
   "source": []
  },
  {
   "cell_type": "markdown",
   "metadata": {},
   "source": [
    "### Medidas de Dispersão"
   ]
  },
  {
   "cell_type": "code",
   "execution_count": null,
   "metadata": {},
   "outputs": [],
   "source": [
    "print(dados.RET.mad())\n",
    "print(dados.RET.var())\n",
    "print(dados.RET.std())"
   ]
  },
  {
   "cell_type": "code",
   "execution_count": null,
   "metadata": {},
   "outputs": [],
   "source": [
    "print(f'Media / Desvio da nota de matemática: {dados.RET.mean()} / {dados.RET.std()}')\n",
    "print(f'Media / Desvio da nota de linguagens: {dados.RET.mean()} / {dados.RET.std()}')"
   ]
  },
  {
   "cell_type": "markdown",
   "metadata": {},
   "source": [
    "### Medidas Separatrizes:"
   ]
  },
  {
   "cell_type": "code",
   "execution_count": null,
   "metadata": {},
   "outputs": [],
   "source": [
    "dados.LL.quantile([0.25, 0.5, 0.75, 1])"
   ]
  },
  {
   "cell_type": "markdown",
   "metadata": {},
   "source": [
    "###  Medidas Separatrizes: Percentiles e Quartiles"
   ]
  },
  {
   "cell_type": "code",
   "execution_count": null,
   "metadata": {},
   "outputs": [],
   "source": [
    "nota_sup = dados.LL.quantile(0.95)\n",
    "print(f'Apenas 5% dos lucros estão acima de {nota_sup} ')"
   ]
  },
  {
   "cell_type": "code",
   "execution_count": null,
   "metadata": {},
   "outputs": [],
   "source": [
    "dados.LL.max()"
   ]
  },
  {
   "cell_type": "markdown",
   "metadata": {},
   "source": [
    "### Estatísticas Descritivas das variáveis explicatixas"
   ]
  },
  {
   "cell_type": "code",
   "execution_count": null,
   "metadata": {},
   "outputs": [],
   "source": [
    "explicativas=['REC', 'EBITDA', 'EBIT', 'LAIR', 'LAOD', 'LL', 'FCO']\n",
    "\n",
    "dados[explicativas].describe()"
   ]
  },
  {
   "cell_type": "markdown",
   "metadata": {},
   "source": [
    "## Avaliação Visual Com Boxplots"
   ]
  },
  {
   "cell_type": "markdown",
   "metadata": {},
   "source": [
    "O uso de boxplot permite visualizar medidas centrais, de dispersão e outliers (medidas discrepantes), além da assimetria da distribuição\n",
    "\n",
    "<img src='img/boxplot.png' width='65%'>"
   ]
  },
  {
   "cell_type": "markdown",
   "metadata": {},
   "source": [
    "### Visualizando a distribuição dos retornos"
   ]
  },
  {
   "cell_type": "code",
   "execution_count": null,
   "metadata": {},
   "outputs": [],
   "source": [
    "dados.RET.plot.box(figsize=(12,8))"
   ]
  },
  {
   "cell_type": "code",
   "execution_count": null,
   "metadata": {},
   "outputs": [],
   "source": [
    "\n",
    "iiq = dados.RET.quantile(0.75) - dados.RET.quantile(0.25)\n",
    "dados.RET.quantile(0.25) - (iiq * 1.5)"
   ]
  },
  {
   "cell_type": "code",
   "execution_count": null,
   "metadata": {},
   "outputs": [],
   "source": []
  },
  {
   "cell_type": "markdown",
   "metadata": {},
   "source": [
    "## <font color=\"#1D334A\" size=8> Análise Exploratória: Visualizando os dados </font>"
   ]
  },
  {
   "cell_type": "markdown",
   "metadata": {},
   "source": [
    "### Biblioteca Seaborn: Visualizando a distribuição dos Lucros e Fluxo de Caixa Opercaional"
   ]
  },
  {
   "cell_type": "code",
   "execution_count": null,
   "metadata": {},
   "outputs": [],
   "source": [
    "import seaborn as sns\n",
    "import matplotlib.pyplot as plt\n",
    "from matplotlib.pyplot import GridSpec\n",
    "\n",
    "fig = plt.figure(constrained_layout=True)\n",
    "fig.set_size_inches(12, 8)\n",
    "gs = GridSpec(2,1, figure=fig)\n",
    "\n",
    "ax0 = fig.add_subplot(gs[0, 0])\n",
    "ax1 = fig.add_subplot(gs[1, 0])\n",
    "\n",
    "sns.set_style(\"whitegrid\")\n",
    "sns.boxplot(data=dados.LL, orient='h', palette='Accent', ax= ax0)\n",
    "#ax.figure.set_size_inches(12,6)\n",
    "ax0.set_title('Distribuição da variável Lucro Líquido', fontsize=14)\n",
    "ax0.set_xlabel('Notas', fontsize=16)\n",
    "ax0.set_xlim(xmin=dados.LL.min()*1.05, xmax=dados.LL.max() * 1.05)\n",
    "ax0.grid(True)\n",
    "\n",
    "ax1.set_title('Distribuição da variável Fluxo de caixa Operacional', fontsize=14)\n",
    "sns.boxplot(data=dados.FCO, orient='h', palette='Accent', ax= ax1)\n",
    "ax1.set_xlabel('Notas', fontsize=16)\n",
    "ax1.set_xlim(xmin=dados.FCO.min()*1.05, xmax=dados.FCO.max() * 1.05)\n",
    "ax1.grid(True)"
   ]
  },
  {
   "cell_type": "markdown",
   "metadata": {},
   "source": [
    "Paleta de Cores Pré-Fixadas no seaborn\n",
    "\n",
    "'Accent', 'Accent_r', 'Blues', 'Blues_r', 'BrBG', 'BrBG_r', 'BuGn', 'BuGn_r', 'BuPu', 'BuPu_r', 'CMRmap', 'CMRmap_r', 'Dark2', 'Dark2_r', 'GnBu', 'GnBu_r', 'Greens', 'Greens_r', 'Greys', 'Greys_r', 'OrRd', 'OrRd_r', 'Oranges', 'Oranges_r', 'PRGn', 'PRGn_r', 'Paired', 'Paired_r', 'Pastel1', 'Pastel1_r', 'Pastel2', 'Pastel2_r', 'PiYG', 'PiYG_r', 'PuBu', 'PuBuGn', 'PuBuGn_r', 'PuBu_r', 'PuOr', 'PuOr_r', 'PuRd', 'PuRd_r', 'Purples', 'Purples_r', 'RdBu', 'RdBu_r', 'RdGy', 'RdGy_r', 'RdPu', 'RdPu_r', 'RdYlBu', 'RdYlBu_r', 'RdYlGn', 'RdYlGn_r', 'Reds', 'Reds_r', 'Set1', 'Set1_r', 'Set2', 'Set2_r', 'Set3', 'Set3_r', 'Spectral', 'Spectral_r', 'Wistia', 'Wistia_r', 'YlGn', 'YlGnBu', 'YlGnBu_r', 'YlGn_r', 'YlOrBr', 'YlOrBr_r', 'YlOrRd', 'YlOrRd_r', 'afmhot', 'afmhot_r', 'autumn', 'autumn_r', 'binary', 'binary_r', 'bone', 'bone_r', 'brg', 'brg_r', 'bwr', 'bwr_r', 'cividis', 'cividis_r', 'cool', 'cool_r', 'coolwarm', 'coolwarm_r', 'copper', 'copper_r', 'crest', 'crest_r', 'cubehelix', 'cubehelix_r', 'flag', 'flag_r', 'flare', 'flare_r', 'gist_earth', 'gist_earth_r', 'gist_gray', 'gist_gray_r', 'gist_heat', 'gist_heat_r', 'gist_ncar', 'gist_ncar_r', 'gist_rainbow', 'gist_rainbow_r', 'gist_stern', 'gist_stern_r', 'gist_yarg', 'gist_yarg_r', 'gnuplot', 'gnuplot2', 'gnuplot2_r', 'gnuplot_r', 'gray', 'gray_r', 'hot', 'hot_r', 'hsv', 'hsv_r', 'icefire', 'icefire_r', 'inferno', 'inferno_r', 'jet', 'jet_r', 'magma', 'magma_r', 'mako', 'mako_r', 'nipy_spectral', 'nipy_spectral_r', 'ocean', 'ocean_r', 'pink', 'pink_r', 'plasma', 'plasma_r', 'prism', 'prism_r', 'rainbow', 'rainbow_r', 'rocket', 'rocket_r', 'seismic', 'seismic_r', 'spring', 'spring_r', 'summer', 'summer_r', 'tab10', 'tab10_r', 'tab20', 'tab20_r', 'tab20b', 'tab20b_r', 'tab20c', 'tab20c_r', 'terrain', 'terrain_r', 'turbo', 'turbo_r', 'twilight', 'twilight_r', 'twilight_shifted', 'twilight_shifted_r', 'viridis', 'viridis_r', 'vlag', 'vlag_r', 'winter', 'winter_r'"
   ]
  },
  {
   "cell_type": "markdown",
   "metadata": {},
   "source": [
    "## Explorando os dados de Retorno Negativo"
   ]
  },
  {
   "cell_type": "code",
   "execution_count": null,
   "metadata": {},
   "outputs": [],
   "source": [
    "\n",
    "dados.query('RET < 0').ANO.value_counts()\n",
    "\n"
   ]
  },
  {
   "cell_type": "code",
   "execution_count": null,
   "metadata": {},
   "outputs": [],
   "source": [
    "dados.query('RET < 0').ANO.value_counts(normalize=True) *100\n"
   ]
  },
  {
   "cell_type": "code",
   "execution_count": null,
   "metadata": {},
   "outputs": [],
   "source": [
    "retornoNegativo = pd.DataFrame()\n",
    "retornoNegativo['QTDE'] = dados.query('RET < 0').ANO.value_counts()\n",
    "retornoNegativo['PercRET'] = dados.query('RET < 0').ANO.value_counts(normalize=True) *100\n",
    "\n",
    "retornoNegativo"
   ]
  },
  {
   "cell_type": "markdown",
   "metadata": {},
   "source": [
    "## Escolhendo a melhor visualização para estes dados"
   ]
  },
  {
   "cell_type": "markdown",
   "metadata": {},
   "source": [
    "## Gráfico de Pizza - Pie Chart"
   ]
  },
  {
   "cell_type": "code",
   "execution_count": null,
   "metadata": {},
   "outputs": [],
   "source": [
    "\n",
    "bx = retornoNegativo.plot.pie(subplots=True)\n"
   ]
  },
  {
   "cell_type": "code",
   "execution_count": null,
   "metadata": {},
   "outputs": [],
   "source": []
  },
  {
   "cell_type": "code",
   "execution_count": null,
   "metadata": {},
   "outputs": [],
   "source": [
    "sns.set_style('whitegrid')\n",
    "ax = sns.barplot(x=retornoNegativo.index, y= retornoNegativo.QTDE,\n",
    "             palette=sns.color_palette(palette=\"husl\", n_colors=30, desat=None))\n",
    "ax.figure.set_size_inches(5, 4)\n",
    "ax.set_yticks([x for x in range(19)])\n",
    "ax.set_title('Retornos Negativos', fontsize=12)"
   ]
  },
  {
   "cell_type": "markdown",
   "metadata": {},
   "source": [
    "## Análise Exploratória "
   ]
  },
  {
   "cell_type": "markdown",
   "metadata": {},
   "source": [
    "## Examinando o comportamento do boxplot através do histograma de Retorno"
   ]
  },
  {
   "cell_type": "code",
   "execution_count": null,
   "metadata": {},
   "outputs": [],
   "source": [
    "sns.set_style('whitegrid')\n",
    "ax = sns.histplot(data = dados.RET, \n",
    "                  palette=sns.color_palette(palette=\"husl\", n_colors=1,\n",
    "                                              desat=None))\n",
    "ax.set_title('Distribuição da Frequencia do retorno das ações', fontsize=25)\n",
    "ax.figure.set_size_inches(12,6)\n",
    "ax"
   ]
  },
  {
   "cell_type": "code",
   "execution_count": null,
   "metadata": {},
   "outputs": [],
   "source": [
    "from scipy.stats import normaltest\n",
    "significancia = 0.10\n",
    "stat_test, p_value = normaltest(dados.query('RET > -3').RET)\n",
    "p_value"
   ]
  },
  {
   "cell_type": "markdown",
   "metadata": {},
   "source": []
  },
  {
   "cell_type": "markdown",
   "metadata": {},
   "source": [
    "## <font color=\"#1D334A\" size=8> Distribuições e Correlações</font>"
   ]
  },
  {
   "cell_type": "markdown",
   "metadata": {},
   "source": [
    "## Correlações"
   ]
  },
  {
   "cell_type": "markdown",
   "metadata": {},
   "source": [
    "### Correlação entre Notas de RET x LL"
   ]
  },
  {
   "cell_type": "code",
   "execution_count": null,
   "metadata": {},
   "outputs": [],
   "source": [
    "fig, ax0 = plt.subplots()\n",
    "fig.set_size_inches(5, 5)\n",
    "sns.scatterplot(x = 'RET', y = 'LL', data = dados, color='#BF9500', ax=ax0)\n",
    "ax0.set_xlim(-10, 50)\n",
    "ax0.set_ylim(-10, 50)\n",
    "ax0.set_xlabel('Retorno das ações', fontsize=22)\n",
    "ax0.set_ylabel('Lucro Líquido', fontsize=22)"
   ]
  },
  {
   "cell_type": "markdown",
   "metadata": {},
   "source": [
    "## Correlação entre Notas de MT x Notas de LC e uma terceira dimensão (acesso a internet)"
   ]
  },
  {
   "cell_type": "code",
   "execution_count": null,
   "metadata": {},
   "outputs": [],
   "source": [
    "fig, ax0 = plt.subplots()\n",
    "fig.set_size_inches(10, 10)\n",
    "sns.scatterplot(x = 'RET', y = 'LL', data = dados, palette='summer_r', ax=ax0, hue='ANO', alpha=0.9)\n",
    "ax0.set_xlim(-1000, 1000)\n",
    "ax0.set_ylim(-1000, 1000)\n",
    "ax0.set_xlabel('Retorno das ações', fontsize=22)\n",
    "ax0.set_ylabel('Lucro Líquido', fontsize=22)"
   ]
  },
  {
   "cell_type": "markdown",
   "metadata": {},
   "source": [
    "## Correlação entre Itens do Demostrativo de Resultado - Pearson\n",
    "\n",
    "\n"
   ]
  },
  {
   "cell_type": "markdown",
   "metadata": {},
   "source": [
    "Correlação é qualquer relação estatística (causal ou não causal) entre duas variáveis.\n",
    "\n",
    "Embora seja comumente denotada como a medida de relação entre duas variáveis aleatórias, correlação não implica causalidade.\n",
    "\n",
    "Correlações espúrias: https://www.tylervigen.com/spurious-correlations\n",
    "\n",
    "\n",
    "<img src='img/pearson.png' width='65%'>"
   ]
  },
  {
   "cell_type": "code",
   "execution_count": null,
   "metadata": {},
   "outputs": [],
   "source": [
    "explicativas = dados[['REC', 'EBITDA', 'EBIT', 'LAIR', 'LAOD','LL', 'FCO']].copy()"
   ]
  },
  {
   "cell_type": "code",
   "execution_count": null,
   "metadata": {},
   "outputs": [],
   "source": [
    "correlacao_dre = explicativas.corr()\n",
    "\n",
    "correlacao_dre"
   ]
  },
  {
   "cell_type": "markdown",
   "metadata": {},
   "source": [
    "## Interpretação dos valores da Correlação\n",
    "\n",
    "<img src='img/pearson02.png' width='65%'>"
   ]
  },
  {
   "cell_type": "markdown",
   "metadata": {},
   "source": [
    "## Visualização da Correlação entre Itens Demonstrativo de Resultado"
   ]
  },
  {
   "cell_type": "code",
   "execution_count": null,
   "metadata": {},
   "outputs": [],
   "source": [
    "ax = sns.heatmap(correlacao_dre, cmap=\"summer_r\", square=True, annot=True)\n",
    "ax.set_title('Mapa de Correlação de Pearson dos itens do DRE', fontsize=22, y=1.05)"
   ]
  },
  {
   "cell_type": "markdown",
   "metadata": {},
   "source": [
    "## <font color=\"#1D334A\" size=8> Regressão</font>"
   ]
  },
  {
   "cell_type": "markdown",
   "metadata": {},
   "source": [
    "## Avaliação de Modelos Preditivos - Métricas"
   ]
  },
  {
   "cell_type": "markdown",
   "metadata": {},
   "source": [
    "### Preparando dados de treino e gerando dados de avaliação da predição"
   ]
  },
  {
   "cell_type": "code",
   "execution_count": null,
   "metadata": {},
   "outputs": [],
   "source": [
    "explicada = dados[['RET']].copy()\n",
    "y = explicada"
   ]
  },
  {
   "cell_type": "code",
   "execution_count": null,
   "metadata": {
    "scrolled": false
   },
   "outputs": [],
   "source": [
    "import statsmodels.api as sm\n",
    "\n",
    "X = explicativas\n",
    "X_Const = sm.add_constant(X)\n",
    "model = sm.OLS(y, X_Const).fit()\n",
    "print(model.summary())"
   ]
  },
  {
   "cell_type": "markdown",
   "metadata": {},
   "source": [
    "> R-squared é o percentual da variação da variável dependente que um modelo linear consegue explicar. Varia de 0% (quando, o modelo não explica qualquer variação da variável resposta em torno do seu valor médio) a 100% (quando, o modelo explica toda variação da variável resposta em torno do seu valor médio)\n",
    "\n",
    "> Adjusted R-squared considera o número de termos no modelo. Quando um novo termo não melhora o R-squared, o modelo perde em liberdade e Adjusted R-squared diminui de valor.\n",
    "\n",
    "> F-statistic e Prob (F-statistic): O Teste F serve para verificar se ao menos uma variável explicativa contribui significativamente para o modelo. O Teste F compara um modelo sem preditores com o modelo de regressão especificado. Um modelo de regressão que não contém preditores também é conhecido como um modelo somente com o intercepto. Na prática ele compara se o seu modelo é melhor do que um outro que simplesmente retorna a média da variável dependente. o Prob (F-statistic) testa o nível de significância de rejeição da hipótese nula (o ajuste do modelo somente com o intercepto e seu modelo são iguais). Costuma-se considerar um valor abaixo de 5% como estatisticamente relevante.\n",
    "\n",
    "> P>|t| é o equivalente a Prob (F-statistic) considerando cada variável individualmente\n",
    "\n"
   ]
  }
 ],
 "metadata": {
  "kernelspec": {
   "display_name": "Python 3",
   "language": "python",
   "name": "python3"
  },
  "language_info": {
   "codemirror_mode": {
    "name": "ipython",
    "version": 3
   },
   "file_extension": ".py",
   "mimetype": "text/x-python",
   "name": "python",
   "nbconvert_exporter": "python",
   "pygments_lexer": "ipython3",
   "version": "3.7.9"
  }
 },
 "nbformat": 4,
 "nbformat_minor": 4
}
