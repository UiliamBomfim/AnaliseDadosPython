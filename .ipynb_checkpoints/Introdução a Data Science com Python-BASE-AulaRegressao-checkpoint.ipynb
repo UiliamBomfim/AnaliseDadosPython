{
 "cells": [
  {
   "cell_type": "markdown",
   "metadata": {},
   "source": [
    "***\n",
    "## <font color=\"#106eb2\" size=12>Introdução a Data Science com Python</font>\n",
    "***\n",
    "\n"
   ]
  },
  {
   "cell_type": "markdown",
   "metadata": {},
   "source": [
    "## <font color=\"#1D334A\" size=8>Aula 01 - Conhecendo os Dados</font>"
   ]
  },
  {
   "cell_type": "markdown",
   "metadata": {},
   "source": [
    "Esta primeira aula é dedicada a realizar uma análise inicial de uma amostra de dados dos participantes do ENEM 2019.\n",
    "\n",
    "É importante conhecer a semântica dos dados descrita no dicionário de dados. A exploração inicial, o conhecimento do negócio, e do dicionário de dados é importante para a formulação de hipóteses.\n",
    "\n",
    "Os dados foram extraídos de http://inep.gov.br/microdados\n",
    "\n",
    "\n"
   ]
  },
  {
   "cell_type": "markdown",
   "metadata": {},
   "source": [
    "### Importando bibliotecas"
   ]
  },
  {
   "cell_type": "code",
   "execution_count": 3,
   "metadata": {},
   "outputs": [],
   "source": [
    "import pandas as pd\n",
    "import numpy as np"
   ]
  },
  {
   "cell_type": "markdown",
   "metadata": {},
   "source": [
    "### Exploração Inicial"
   ]
  },
  {
   "cell_type": "markdown",
   "metadata": {},
   "source": [
    "Os dados serão carregados em um dataframe.\n",
    "\n",
    "Um dataframe é a estrutura fundamental do Pandas. \n",
    "\n",
    "É uma estrutura bidimensional homogênea. As linhas representam os indivíduos da minha amostra ou população. As colunas são os \n",
    "atributos destes indivíduos\n",
    "\n",
    "Para explorar os métodos e atributos dos dataframes: https://pandas.pydata.org/pandas-docs/stable/reference/frame.html\n"
   ]
  },
  {
   "cell_type": "code",
   "execution_count": 4,
   "metadata": {
    "scrolled": false
   },
   "outputs": [
    {
     "ename": "FileNotFoundError",
     "evalue": "[Errno 2] File data/microdados_sample.csv does not exist: 'data/microdados_sample.csv'",
     "output_type": "error",
     "traceback": [
      "\u001b[1;31m---------------------------------------------------------------------------\u001b[0m",
      "\u001b[1;31mFileNotFoundError\u001b[0m                         Traceback (most recent call last)",
      "\u001b[1;32m<ipython-input-4-c598bff883c0>\u001b[0m in \u001b[0;36m<module>\u001b[1;34m\u001b[0m\n\u001b[0;32m      1\u001b[0m \u001b[1;31m#uri = 'https://github.com/pooinf008/inf032/blob/master/data/microdados_sample.csv?raw=true'\u001b[0m\u001b[1;33m\u001b[0m\u001b[1;33m\u001b[0m\u001b[1;33m\u001b[0m\u001b[0m\n\u001b[0;32m      2\u001b[0m \u001b[0mcaminho\u001b[0m \u001b[1;33m=\u001b[0m \u001b[1;34m'data/microdados_sample.csv'\u001b[0m\u001b[1;33m\u001b[0m\u001b[1;33m\u001b[0m\u001b[0m\n\u001b[1;32m----> 3\u001b[1;33m \u001b[0mdados\u001b[0m \u001b[1;33m=\u001b[0m \u001b[0mpd\u001b[0m\u001b[1;33m.\u001b[0m\u001b[0mread_csv\u001b[0m\u001b[1;33m(\u001b[0m\u001b[0mcaminho\u001b[0m\u001b[1;33m)\u001b[0m\u001b[1;33m\u001b[0m\u001b[1;33m\u001b[0m\u001b[0m\n\u001b[0m\u001b[0;32m      4\u001b[0m \u001b[0mdados\u001b[0m\u001b[1;33m.\u001b[0m\u001b[0mhead\u001b[0m\u001b[1;33m(\u001b[0m\u001b[1;33m)\u001b[0m\u001b[1;33m\u001b[0m\u001b[1;33m\u001b[0m\u001b[0m\n",
      "\u001b[1;32m~\\anaconda3\\lib\\site-packages\\pandas\\io\\parsers.py\u001b[0m in \u001b[0;36mparser_f\u001b[1;34m(filepath_or_buffer, sep, delimiter, header, names, index_col, usecols, squeeze, prefix, mangle_dupe_cols, dtype, engine, converters, true_values, false_values, skipinitialspace, skiprows, skipfooter, nrows, na_values, keep_default_na, na_filter, verbose, skip_blank_lines, parse_dates, infer_datetime_format, keep_date_col, date_parser, dayfirst, cache_dates, iterator, chunksize, compression, thousands, decimal, lineterminator, quotechar, quoting, doublequote, escapechar, comment, encoding, dialect, error_bad_lines, warn_bad_lines, delim_whitespace, low_memory, memory_map, float_precision)\u001b[0m\n\u001b[0;32m    674\u001b[0m         )\n\u001b[0;32m    675\u001b[0m \u001b[1;33m\u001b[0m\u001b[0m\n\u001b[1;32m--> 676\u001b[1;33m         \u001b[1;32mreturn\u001b[0m \u001b[0m_read\u001b[0m\u001b[1;33m(\u001b[0m\u001b[0mfilepath_or_buffer\u001b[0m\u001b[1;33m,\u001b[0m \u001b[0mkwds\u001b[0m\u001b[1;33m)\u001b[0m\u001b[1;33m\u001b[0m\u001b[1;33m\u001b[0m\u001b[0m\n\u001b[0m\u001b[0;32m    677\u001b[0m \u001b[1;33m\u001b[0m\u001b[0m\n\u001b[0;32m    678\u001b[0m     \u001b[0mparser_f\u001b[0m\u001b[1;33m.\u001b[0m\u001b[0m__name__\u001b[0m \u001b[1;33m=\u001b[0m \u001b[0mname\u001b[0m\u001b[1;33m\u001b[0m\u001b[1;33m\u001b[0m\u001b[0m\n",
      "\u001b[1;32m~\\anaconda3\\lib\\site-packages\\pandas\\io\\parsers.py\u001b[0m in \u001b[0;36m_read\u001b[1;34m(filepath_or_buffer, kwds)\u001b[0m\n\u001b[0;32m    446\u001b[0m \u001b[1;33m\u001b[0m\u001b[0m\n\u001b[0;32m    447\u001b[0m     \u001b[1;31m# Create the parser.\u001b[0m\u001b[1;33m\u001b[0m\u001b[1;33m\u001b[0m\u001b[1;33m\u001b[0m\u001b[0m\n\u001b[1;32m--> 448\u001b[1;33m     \u001b[0mparser\u001b[0m \u001b[1;33m=\u001b[0m \u001b[0mTextFileReader\u001b[0m\u001b[1;33m(\u001b[0m\u001b[0mfp_or_buf\u001b[0m\u001b[1;33m,\u001b[0m \u001b[1;33m**\u001b[0m\u001b[0mkwds\u001b[0m\u001b[1;33m)\u001b[0m\u001b[1;33m\u001b[0m\u001b[1;33m\u001b[0m\u001b[0m\n\u001b[0m\u001b[0;32m    449\u001b[0m \u001b[1;33m\u001b[0m\u001b[0m\n\u001b[0;32m    450\u001b[0m     \u001b[1;32mif\u001b[0m \u001b[0mchunksize\u001b[0m \u001b[1;32mor\u001b[0m \u001b[0miterator\u001b[0m\u001b[1;33m:\u001b[0m\u001b[1;33m\u001b[0m\u001b[1;33m\u001b[0m\u001b[0m\n",
      "\u001b[1;32m~\\anaconda3\\lib\\site-packages\\pandas\\io\\parsers.py\u001b[0m in \u001b[0;36m__init__\u001b[1;34m(self, f, engine, **kwds)\u001b[0m\n\u001b[0;32m    878\u001b[0m             \u001b[0mself\u001b[0m\u001b[1;33m.\u001b[0m\u001b[0moptions\u001b[0m\u001b[1;33m[\u001b[0m\u001b[1;34m\"has_index_names\"\u001b[0m\u001b[1;33m]\u001b[0m \u001b[1;33m=\u001b[0m \u001b[0mkwds\u001b[0m\u001b[1;33m[\u001b[0m\u001b[1;34m\"has_index_names\"\u001b[0m\u001b[1;33m]\u001b[0m\u001b[1;33m\u001b[0m\u001b[1;33m\u001b[0m\u001b[0m\n\u001b[0;32m    879\u001b[0m \u001b[1;33m\u001b[0m\u001b[0m\n\u001b[1;32m--> 880\u001b[1;33m         \u001b[0mself\u001b[0m\u001b[1;33m.\u001b[0m\u001b[0m_make_engine\u001b[0m\u001b[1;33m(\u001b[0m\u001b[0mself\u001b[0m\u001b[1;33m.\u001b[0m\u001b[0mengine\u001b[0m\u001b[1;33m)\u001b[0m\u001b[1;33m\u001b[0m\u001b[1;33m\u001b[0m\u001b[0m\n\u001b[0m\u001b[0;32m    881\u001b[0m \u001b[1;33m\u001b[0m\u001b[0m\n\u001b[0;32m    882\u001b[0m     \u001b[1;32mdef\u001b[0m \u001b[0mclose\u001b[0m\u001b[1;33m(\u001b[0m\u001b[0mself\u001b[0m\u001b[1;33m)\u001b[0m\u001b[1;33m:\u001b[0m\u001b[1;33m\u001b[0m\u001b[1;33m\u001b[0m\u001b[0m\n",
      "\u001b[1;32m~\\anaconda3\\lib\\site-packages\\pandas\\io\\parsers.py\u001b[0m in \u001b[0;36m_make_engine\u001b[1;34m(self, engine)\u001b[0m\n\u001b[0;32m   1112\u001b[0m     \u001b[1;32mdef\u001b[0m \u001b[0m_make_engine\u001b[0m\u001b[1;33m(\u001b[0m\u001b[0mself\u001b[0m\u001b[1;33m,\u001b[0m \u001b[0mengine\u001b[0m\u001b[1;33m=\u001b[0m\u001b[1;34m\"c\"\u001b[0m\u001b[1;33m)\u001b[0m\u001b[1;33m:\u001b[0m\u001b[1;33m\u001b[0m\u001b[1;33m\u001b[0m\u001b[0m\n\u001b[0;32m   1113\u001b[0m         \u001b[1;32mif\u001b[0m \u001b[0mengine\u001b[0m \u001b[1;33m==\u001b[0m \u001b[1;34m\"c\"\u001b[0m\u001b[1;33m:\u001b[0m\u001b[1;33m\u001b[0m\u001b[1;33m\u001b[0m\u001b[0m\n\u001b[1;32m-> 1114\u001b[1;33m             \u001b[0mself\u001b[0m\u001b[1;33m.\u001b[0m\u001b[0m_engine\u001b[0m \u001b[1;33m=\u001b[0m \u001b[0mCParserWrapper\u001b[0m\u001b[1;33m(\u001b[0m\u001b[0mself\u001b[0m\u001b[1;33m.\u001b[0m\u001b[0mf\u001b[0m\u001b[1;33m,\u001b[0m \u001b[1;33m**\u001b[0m\u001b[0mself\u001b[0m\u001b[1;33m.\u001b[0m\u001b[0moptions\u001b[0m\u001b[1;33m)\u001b[0m\u001b[1;33m\u001b[0m\u001b[1;33m\u001b[0m\u001b[0m\n\u001b[0m\u001b[0;32m   1115\u001b[0m         \u001b[1;32melse\u001b[0m\u001b[1;33m:\u001b[0m\u001b[1;33m\u001b[0m\u001b[1;33m\u001b[0m\u001b[0m\n\u001b[0;32m   1116\u001b[0m             \u001b[1;32mif\u001b[0m \u001b[0mengine\u001b[0m \u001b[1;33m==\u001b[0m \u001b[1;34m\"python\"\u001b[0m\u001b[1;33m:\u001b[0m\u001b[1;33m\u001b[0m\u001b[1;33m\u001b[0m\u001b[0m\n",
      "\u001b[1;32m~\\anaconda3\\lib\\site-packages\\pandas\\io\\parsers.py\u001b[0m in \u001b[0;36m__init__\u001b[1;34m(self, src, **kwds)\u001b[0m\n\u001b[0;32m   1889\u001b[0m         \u001b[0mkwds\u001b[0m\u001b[1;33m[\u001b[0m\u001b[1;34m\"usecols\"\u001b[0m\u001b[1;33m]\u001b[0m \u001b[1;33m=\u001b[0m \u001b[0mself\u001b[0m\u001b[1;33m.\u001b[0m\u001b[0musecols\u001b[0m\u001b[1;33m\u001b[0m\u001b[1;33m\u001b[0m\u001b[0m\n\u001b[0;32m   1890\u001b[0m \u001b[1;33m\u001b[0m\u001b[0m\n\u001b[1;32m-> 1891\u001b[1;33m         \u001b[0mself\u001b[0m\u001b[1;33m.\u001b[0m\u001b[0m_reader\u001b[0m \u001b[1;33m=\u001b[0m \u001b[0mparsers\u001b[0m\u001b[1;33m.\u001b[0m\u001b[0mTextReader\u001b[0m\u001b[1;33m(\u001b[0m\u001b[0msrc\u001b[0m\u001b[1;33m,\u001b[0m \u001b[1;33m**\u001b[0m\u001b[0mkwds\u001b[0m\u001b[1;33m)\u001b[0m\u001b[1;33m\u001b[0m\u001b[1;33m\u001b[0m\u001b[0m\n\u001b[0m\u001b[0;32m   1892\u001b[0m         \u001b[0mself\u001b[0m\u001b[1;33m.\u001b[0m\u001b[0munnamed_cols\u001b[0m \u001b[1;33m=\u001b[0m \u001b[0mself\u001b[0m\u001b[1;33m.\u001b[0m\u001b[0m_reader\u001b[0m\u001b[1;33m.\u001b[0m\u001b[0munnamed_cols\u001b[0m\u001b[1;33m\u001b[0m\u001b[1;33m\u001b[0m\u001b[0m\n\u001b[0;32m   1893\u001b[0m \u001b[1;33m\u001b[0m\u001b[0m\n",
      "\u001b[1;32mpandas\\_libs\\parsers.pyx\u001b[0m in \u001b[0;36mpandas._libs.parsers.TextReader.__cinit__\u001b[1;34m()\u001b[0m\n",
      "\u001b[1;32mpandas\\_libs\\parsers.pyx\u001b[0m in \u001b[0;36mpandas._libs.parsers.TextReader._setup_parser_source\u001b[1;34m()\u001b[0m\n",
      "\u001b[1;31mFileNotFoundError\u001b[0m: [Errno 2] File data/microdados_sample.csv does not exist: 'data/microdados_sample.csv'"
     ]
    }
   ],
   "source": [
    "#uri = 'https://github.com/pooinf008/inf032/blob/master/data/microdados_sample.csv?raw=true'\n",
    "caminho = 'data/microdados_sample.csv'\n",
    "dados = pd.read_csv(caminho)\n",
    "dados.head()"
   ]
  },
  {
   "cell_type": "markdown",
   "metadata": {},
   "source": [
    "### Observando as dimensões do dataframe - linhas e colunas"
   ]
  },
  {
   "cell_type": "code",
   "execution_count": 5,
   "metadata": {},
   "outputs": [
    {
     "ename": "NameError",
     "evalue": "name 'dados' is not defined",
     "output_type": "error",
     "traceback": [
      "\u001b[1;31m---------------------------------------------------------------------------\u001b[0m",
      "\u001b[1;31mNameError\u001b[0m                                 Traceback (most recent call last)",
      "\u001b[1;32m<ipython-input-5-5b67b32a2ae3>\u001b[0m in \u001b[0;36m<module>\u001b[1;34m\u001b[0m\n\u001b[1;32m----> 1\u001b[1;33m \u001b[0mdados\u001b[0m\u001b[1;33m.\u001b[0m\u001b[0mshape\u001b[0m\u001b[1;33m\u001b[0m\u001b[1;33m\u001b[0m\u001b[0m\n\u001b[0m",
      "\u001b[1;31mNameError\u001b[0m: name 'dados' is not defined"
     ]
    }
   ],
   "source": [
    "dados.shape"
   ]
  },
  {
   "cell_type": "code",
   "execution_count": 6,
   "metadata": {},
   "outputs": [
    {
     "ename": "NameError",
     "evalue": "name 'dados' is not defined",
     "output_type": "error",
     "traceback": [
      "\u001b[1;31m---------------------------------------------------------------------------\u001b[0m",
      "\u001b[1;31mNameError\u001b[0m                                 Traceback (most recent call last)",
      "\u001b[1;32m<ipython-input-6-82ee121b3bf0>\u001b[0m in \u001b[0;36m<module>\u001b[1;34m\u001b[0m\n\u001b[1;32m----> 1\u001b[1;33m \u001b[0mdados\u001b[0m\u001b[1;33m\u001b[0m\u001b[1;33m\u001b[0m\u001b[0m\n\u001b[0m",
      "\u001b[1;31mNameError\u001b[0m: name 'dados' is not defined"
     ]
    }
   ],
   "source": [
    "dados"
   ]
  },
  {
   "cell_type": "code",
   "execution_count": 7,
   "metadata": {},
   "outputs": [
    {
     "ename": "NameError",
     "evalue": "name 'dados' is not defined",
     "output_type": "error",
     "traceback": [
      "\u001b[1;31m---------------------------------------------------------------------------\u001b[0m",
      "\u001b[1;31mNameError\u001b[0m                                 Traceback (most recent call last)",
      "\u001b[1;32m<ipython-input-7-e55edc7073c9>\u001b[0m in \u001b[0;36m<module>\u001b[1;34m\u001b[0m\n\u001b[1;32m----> 1\u001b[1;33m \u001b[0mdados\u001b[0m\u001b[1;33m.\u001b[0m\u001b[0minfo\u001b[0m\u001b[1;33m(\u001b[0m\u001b[1;33m)\u001b[0m\u001b[1;33m\u001b[0m\u001b[1;33m\u001b[0m\u001b[0m\n\u001b[0m",
      "\u001b[1;31mNameError\u001b[0m: name 'dados' is not defined"
     ]
    }
   ],
   "source": [
    "dados.info()"
   ]
  },
  {
   "cell_type": "code",
   "execution_count": null,
   "metadata": {},
   "outputs": [],
   "source": [
    "dados.dtypes"
   ]
  },
  {
   "cell_type": "code",
   "execution_count": null,
   "metadata": {},
   "outputs": [],
   "source": [
    "dados.describe()"
   ]
  },
  {
   "cell_type": "markdown",
   "metadata": {},
   "source": [
    "### Vendo o nome das colunas do dataframe"
   ]
  },
  {
   "cell_type": "code",
   "execution_count": null,
   "metadata": {},
   "outputs": [],
   "source": [
    "dados.columns.values"
   ]
  },
  {
   "cell_type": "markdown",
   "metadata": {},
   "source": [
    "## Categorize os seus dados"
   ]
  },
  {
   "cell_type": "markdown",
   "metadata": {},
   "source": [
    "Os nossos atributos podem assumir diversos valores e por isso são chamados de variáveis.\n",
    "\n",
    "As variáveis podem ser classificadas entre:\n",
    "\n",
    "variáveis qualitativas:  qualidade\n",
    "\n",
    "    ordinal - pode-se estabelecer uma ordem entre as categorias: Q001 e Q002\n",
    "    \n",
    "    nominal - não é possível hierarquizar as categorias: TP_SEXO\n",
    "    \n",
    "variáveis quantitativas: contagens e medidas\n",
    "\n",
    "    discretos - contagem discreta formada por inteiros: 'NU_IDADE'\n",
    "    \n",
    "    contínuos - contagem contínua formada por inteiros: 'NU_NOTA_CN' e 'NU_NOTA_CH'\n",
    "       \n",
    "    \n",
    "    \n"
   ]
  },
  {
   "cell_type": "markdown",
   "metadata": {},
   "source": [
    "<img src='img/variaveis.png' width='70%'>"
   ]
  },
  {
   "cell_type": "markdown",
   "metadata": {},
   "source": [
    "### Selecionando SubConjuntos do Dataframe"
   ]
  },
  {
   "cell_type": "markdown",
   "metadata": {},
   "source": [
    "Um subconjunto bidimensional de um dataframe, também será um dataframe.\n",
    "\n",
    "Quando este subconjunto for unidimensional o seu tipo será um objeto do tipo Pandas Series. Diversos são as operações disponíveis para lidar com Series. \n",
    "\n",
    "Veja a documentação em: https://pandas.pydata.org/pandas-docs/stable/reference/series.html  "
   ]
  },
  {
   "cell_type": "code",
   "execution_count": null,
   "metadata": {},
   "outputs": [],
   "source": [
    "dados['SG_UF_RESIDENCIA']\n"
   ]
  },
  {
   "cell_type": "code",
   "execution_count": null,
   "metadata": {},
   "outputs": [],
   "source": [
    "dados.SG_UF_RESIDENCIA"
   ]
  },
  {
   "cell_type": "code",
   "execution_count": null,
   "metadata": {},
   "outputs": [],
   "source": [
    "sub = dados[['SG_UF_RESIDENCIA', 'TP_COR_RACA']].copy()\n",
    "sub"
   ]
  },
  {
   "cell_type": "code",
   "execution_count": null,
   "metadata": {},
   "outputs": [],
   "source": [
    "dados[10:30]"
   ]
  },
  {
   "cell_type": "code",
   "execution_count": null,
   "metadata": {},
   "outputs": [],
   "source": [
    "dados.iloc[10:30, 1:3]"
   ]
  },
  {
   "cell_type": "code",
   "execution_count": null,
   "metadata": {},
   "outputs": [],
   "source": [
    "dados[dados.TP_COR_RACA == 3]"
   ]
  },
  {
   "cell_type": "code",
   "execution_count": null,
   "metadata": {},
   "outputs": [],
   "source": [
    "dados.query('NU_IDADE == 20 & TP_COR_RACA == 3')"
   ]
  },
  {
   "cell_type": "markdown",
   "metadata": {},
   "source": [
    "### Identificando o domínio de uma coluna"
   ]
  },
  {
   "cell_type": "code",
   "execution_count": null,
   "metadata": {},
   "outputs": [],
   "source": [
    "dados.SG_UF_RESIDENCIA.unique()"
   ]
  },
  {
   "cell_type": "code",
   "execution_count": null,
   "metadata": {},
   "outputs": [],
   "source": [
    "dados.SG_UF_RESIDENCIA.unique().size"
   ]
  },
  {
   "cell_type": "code",
   "execution_count": null,
   "metadata": {},
   "outputs": [],
   "source": [
    "dados.SG_UF_RESIDENCIA.value_counts()"
   ]
  },
  {
   "cell_type": "code",
   "execution_count": null,
   "metadata": {},
   "outputs": [],
   "source": [
    "dados.SG_UF_RESIDENCIA.value_counts(normalize=True).round(4) * 100"
   ]
  },
  {
   "cell_type": "markdown",
   "metadata": {},
   "source": [
    "### Verificando a frequencia de inscritos por faixa de renda"
   ]
  },
  {
   "cell_type": "code",
   "execution_count": null,
   "metadata": {},
   "outputs": [],
   "source": [
    "dados.Q006.value_counts(normalize=True).sort_index() * 100"
   ]
  },
  {
   "cell_type": "markdown",
   "metadata": {},
   "source": [
    "## Avaliação Visual Com Histograma"
   ]
  },
  {
   "cell_type": "markdown",
   "metadata": {},
   "source": [
    "### \"Plot\" dos dados de uma coluna"
   ]
  },
  {
   "cell_type": "code",
   "execution_count": null,
   "metadata": {},
   "outputs": [],
   "source": [
    "dados.NU_IDADE.plot()"
   ]
  },
  {
   "cell_type": "markdown",
   "metadata": {},
   "source": [
    "### Avaliação Visual da Idade (Histograma)"
   ]
  },
  {
   "cell_type": "code",
   "execution_count": null,
   "metadata": {},
   "outputs": [],
   "source": [
    "import matplotlib.pyplot as plt\n",
    "import seaborn as sns\n",
    "\n",
    "sns.set()\n",
    "\n",
    "dados.NU_IDADE.plot(bins=25, kind='hist', figsize=(12, 8))"
   ]
  },
  {
   "cell_type": "code",
   "execution_count": null,
   "metadata": {},
   "outputs": [],
   "source": [
    "dados.TP_NACIONALIDADE.plot(bins=25, kind='hist', figsize=(12, 8))"
   ]
  },
  {
   "cell_type": "markdown",
   "metadata": {},
   "source": [
    "### Investigando Idade dos Treineiros"
   ]
  },
  {
   "cell_type": "code",
   "execution_count": null,
   "metadata": {},
   "outputs": [],
   "source": [
    "dados.query('IN_TREINEIRO == 1').NU_IDADE.hist(bins=30)"
   ]
  },
  {
   "cell_type": "markdown",
   "metadata": {},
   "source": [
    "### Avaliação Visual da Nota da Redação\n"
   ]
  },
  {
   "cell_type": "code",
   "execution_count": null,
   "metadata": {},
   "outputs": [],
   "source": [
    "dados.NU_NOTA_REDACAO.hist(bins=22, figsize=(15,8))"
   ]
  },
  {
   "cell_type": "code",
   "execution_count": null,
   "metadata": {},
   "outputs": [],
   "source": [
    "dados[dados.NU_NOTA_REDACAO==0].NU_IDADE.hist(bins=22, figsize=(15,8))"
   ]
  },
  {
   "cell_type": "code",
   "execution_count": null,
   "metadata": {},
   "outputs": [],
   "source": [
    "dados[['NU_NOTA_REDACAO', 'NU_IDADE']]\n",
    "dados['ZEROU_REDACAO'] = dados.NU_NOTA_REDACAO == 0\n",
    "sns.scatterplot(data = dados, x='NU_IDADE', y='ZEROU_REDACAO', alpha=0.1)"
   ]
  },
  {
   "cell_type": "markdown",
   "metadata": {},
   "source": [
    "### Avaliação Visual da Nota de Linguagens e Códigos"
   ]
  },
  {
   "cell_type": "code",
   "execution_count": null,
   "metadata": {},
   "outputs": [],
   "source": [
    "dados.NU_NOTA_LC.hist(bins=22, figsize=(15,8))"
   ]
  },
  {
   "cell_type": "code",
   "execution_count": null,
   "metadata": {},
   "outputs": [],
   "source": [
    "ax = sns.histplot(dados.NU_NOTA_LC, kde=True)\n",
    "ax.set_title('Distribuição das Notas de Linguagens e Códigos')\n"
   ]
  },
  {
   "cell_type": "markdown",
   "metadata": {},
   "source": [
    "### Relacionando visualmente a idade do conjunto e dos treineiros"
   ]
  },
  {
   "cell_type": "code",
   "execution_count": null,
   "metadata": {},
   "outputs": [],
   "source": [
    "sns.set_style(\"whitegrid\")\n",
    "ax0 = sns.histplot(dados.NU_IDADE, kde=True, bins=75, color='#000000', label='TODOS')\n",
    "sns.histplot(dados.query('IN_TREINEIRO == 1').NU_IDADE, kde=True, bins=50, color='#FFD700', label='TREINEIROS', ax=ax0)\n",
    "ax0.set_title('Histograma de Relação da Idade dos Treineiros com o Conjunto', {'fontsize' : 14})\n",
    "ax0.figure.set_size_inches(12, 6)\n",
    "ax0.set_xlabel('Idade dos Inscritos')\n",
    "ax0.set_ylabel('')\n",
    "ax0.legend()"
   ]
  },
  {
   "cell_type": "markdown",
   "metadata": {},
   "source": [
    "### Agrupando as notas por estados e tirando a média da nota de Redação "
   ]
  },
  {
   "cell_type": "markdown",
   "metadata": {},
   "source": [
    "Um objeto GroupBy pode ser usado para calcular valores (contagem, máximos, mínimos, média) sobre dados agrupados por algum atributo.\n",
    "\n",
    "Veja os atributos e métodos dos objetos GroupBy em: https://pandas.pydata.org/pandas-docs/stable/reference/groupby.html"
   ]
  },
  {
   "cell_type": "code",
   "execution_count": null,
   "metadata": {},
   "outputs": [],
   "source": [
    "dados.head()\n",
    "dados.groupby(\"SG_UF_RESIDENCIA\").NU_NOTA_REDACAO.mean().round(2)"
   ]
  },
  {
   "cell_type": "markdown",
   "metadata": {},
   "source": [
    "### Criando Categorias por faixas de valores"
   ]
  },
  {
   "cell_type": "code",
   "execution_count": null,
   "metadata": {},
   "outputs": [],
   "source": [
    "print(dados.NU_NOTA_REDACAO.min())\n",
    "print(dados.NU_NOTA_REDACAO.max())"
   ]
  },
  {
   "cell_type": "code",
   "execution_count": null,
   "metadata": {},
   "outputs": [],
   "source": [
    "faixas=[0, 200, 400, 600, 800, 1000]\n",
    "rotulos = ['0 a 200', '200 a 400', '400 a 600', '600 a 800', '800 a 1000']\n",
    "redacao_classes = pd.cut(x=dados.NU_NOTA_REDACAO, bins=faixas, labels=rotulos, include_lowest=False)\n",
    "redacao_classes.value_counts(sort=False, normalize=False) * 100"
   ]
  },
  {
   "cell_type": "code",
   "execution_count": null,
   "metadata": {},
   "outputs": [],
   "source": [
    "faixas=[0, 200, 400, 600, 800, 1000]\n",
    "rotulos = ['0 a 200', '200 a 400', '400 a 600', '600 a 800', '800 a 1000']\n",
    "redacao_classes = pd.cut(x=dados.NU_NOTA_REDACAO, bins=faixas, labels=rotulos, include_lowest=True)\n",
    "redacao_classes.value_counts(sort=False, normalize=False) * 100"
   ]
  },
  {
   "cell_type": "markdown",
   "metadata": {},
   "source": [
    "## Resumindo os dados"
   ]
  },
  {
   "cell_type": "markdown",
   "metadata": {},
   "source": [
    "### Medidas de Tendência Central "
   ]
  },
  {
   "cell_type": "code",
   "execution_count": null,
   "metadata": {},
   "outputs": [],
   "source": [
    "print(dados.NU_IDADE.mean())\n",
    "print(dados.NU_IDADE.median())\n",
    "print(dados.NU_IDADE.mode()[0])"
   ]
  },
  {
   "cell_type": "markdown",
   "metadata": {},
   "source": [
    "### Assimetria e medidas de Tendência Central\n",
    "\n",
    "<img src='img/assimetria.png' width='70%'>"
   ]
  },
  {
   "cell_type": "code",
   "execution_count": null,
   "metadata": {},
   "outputs": [],
   "source": [
    "salaA = [2.5, 2.5, 10]\n",
    "salaB = [5, 5, 5]\n",
    "\n",
    "print(np.mean(salaA))\n",
    "print(np.mean(salaB))"
   ]
  },
  {
   "cell_type": "markdown",
   "metadata": {},
   "source": [
    "### Medidas de Dispersão"
   ]
  },
  {
   "cell_type": "code",
   "execution_count": null,
   "metadata": {},
   "outputs": [],
   "source": [
    "dados_idade = dados[['NU_IDADE']].copy()\n",
    "dados_idade['DIST_MEDIA'] = np.power(dados_idade.NU_IDADE - dados_idade.NU_IDADE.mean(), 2)\n",
    "np.sqrt(dados_idade.DIST_MEDIA.sum() / dados_idade.DIST_MEDIA.count())"
   ]
  },
  {
   "cell_type": "code",
   "execution_count": null,
   "metadata": {},
   "outputs": [],
   "source": [
    "print(dados.NU_IDADE.mad())\n",
    "print(dados.NU_IDADE.var())\n",
    "print(dados.NU_IDADE.std())"
   ]
  },
  {
   "cell_type": "code",
   "execution_count": null,
   "metadata": {},
   "outputs": [],
   "source": [
    "print(f'Media / Desvio da nota de matemática: {dados.NU_NOTA_MT.mean()} / {dados.NU_NOTA_MT.std()}')\n",
    "print(f'Media / Desvio da nota de linguagens: {dados.NU_NOTA_LC.mean()} / {dados.NU_NOTA_LC.std()}')"
   ]
  },
  {
   "cell_type": "markdown",
   "metadata": {},
   "source": [
    "### Medidas Separatrizes:"
   ]
  },
  {
   "cell_type": "code",
   "execution_count": null,
   "metadata": {},
   "outputs": [],
   "source": [
    "dados.NU_IDADE.quantile([0.25, 0.5, 0.75, 1])"
   ]
  },
  {
   "cell_type": "markdown",
   "metadata": {},
   "source": [
    "###  Medidas Separatrizes: Percentiles e Quartiles"
   ]
  },
  {
   "cell_type": "code",
   "execution_count": null,
   "metadata": {},
   "outputs": [],
   "source": [
    "nota_sup = dados.NU_NOTA_REDACAO.quantile(0.95)\n",
    "print(f'Apenas 5% dos alunos tiraram acima de {nota_sup} em redacao')"
   ]
  },
  {
   "cell_type": "code",
   "execution_count": null,
   "metadata": {},
   "outputs": [],
   "source": [
    "dados.NU_IDADE.max()"
   ]
  },
  {
   "cell_type": "markdown",
   "metadata": {},
   "source": [
    "### Estatísticas Descritivas das Notas"
   ]
  },
  {
   "cell_type": "code",
   "execution_count": null,
   "metadata": {},
   "outputs": [],
   "source": [
    "provas=['NU_NOTA_CN', 'NU_NOTA_CH', 'NU_NOTA_MT', 'NU_NOTA_LC', 'NU_NOTA_REDACAO']\n",
    "\n",
    "dados[provas].describe()"
   ]
  },
  {
   "cell_type": "markdown",
   "metadata": {},
   "source": [
    "## Avaliação Visual Com Boxplots"
   ]
  },
  {
   "cell_type": "markdown",
   "metadata": {},
   "source": [
    "O uso de boxplot permite visualizar medidas centrais, de dispersão e outliers (medidas discrepantes), além da assimetria da distribuição\n",
    "\n",
    "<img src='img/boxplot.png' width='65%'>"
   ]
  },
  {
   "cell_type": "markdown",
   "metadata": {},
   "source": [
    "### Visualizando a distribuição das notas de redação"
   ]
  },
  {
   "cell_type": "code",
   "execution_count": null,
   "metadata": {},
   "outputs": [],
   "source": [
    "dados.NU_NOTA_REDACAO.plot.box(figsize=(12,8))"
   ]
  },
  {
   "cell_type": "code",
   "execution_count": null,
   "metadata": {},
   "outputs": [],
   "source": [
    "\n",
    "iiq = dados.NU_NOTA_REDACAO.quantile(0.75) - dados.NU_NOTA_REDACAO.quantile(0.25)\n",
    "dados.NU_NOTA_REDACAO.quantile(0.25) - (iiq * 1.5)"
   ]
  },
  {
   "cell_type": "markdown",
   "metadata": {},
   "source": [
    "### Visualizando a distribuição das notas\n"
   ]
  },
  {
   "cell_type": "code",
   "execution_count": null,
   "metadata": {},
   "outputs": [],
   "source": [
    "dados[provas].plot.box(figsize=(12,8))"
   ]
  },
  {
   "cell_type": "markdown",
   "metadata": {},
   "source": [
    "## <font color=\"#1D334A\" size=8>Aula 02 - Análise Exploratória: Visualizando os dados </font>"
   ]
  },
  {
   "cell_type": "markdown",
   "metadata": {},
   "source": [
    "### Biblioteca Seaborn: Visualizando a distribuição das notas de redação II"
   ]
  },
  {
   "cell_type": "code",
   "execution_count": null,
   "metadata": {},
   "outputs": [],
   "source": [
    "import seaborn as sns\n",
    "import matplotlib.pyplot as plt\n",
    "from matplotlib.pyplot import GridSpec\n",
    "\n",
    "\n",
    "fig = plt.figure(constrained_layout=True)\n",
    "fig.set_size_inches(12, 8)\n",
    "gs = GridSpec(2,1, figure=fig)\n",
    "\n",
    "ax0 = fig.add_subplot(gs[0, 0])\n",
    "ax1 = fig.add_subplot(gs[1, 0])\n",
    "\n",
    "sns.set_style(\"whitegrid\")\n",
    "sns.boxplot(data=dados.NU_NOTA_REDACAO, orient='h', palette='Accent', ax= ax0)\n",
    "#ax.figure.set_size_inches(12,6)\n",
    "ax0.set_title('Distribuição das Notas de Redação - ENEM 2019', fontsize=14)\n",
    "ax0.set_xlabel('Notas', fontsize=16)\n",
    "ax0.set_xlim(xmin=0, xmax=dados.NU_NOTA_REDACAO.max() * 1.05)\n",
    "ax0.grid(True)\n",
    "\n",
    "ax1.set_title('Distribuição das Notas de Matemática - ENEM 2019', fontsize=14)\n",
    "sns.boxplot(data=dados.NU_NOTA_MT, orient='h', palette='Accent', ax= ax1)\n",
    "ax1.set_xlabel('Notas', fontsize=16)\n",
    "ax1.set_xlim(xmin=0, xmax=dados.NU_NOTA_MT.max() * 1.05)\n",
    "ax1.grid(True)"
   ]
  },
  {
   "cell_type": "markdown",
   "metadata": {},
   "source": [
    "Paleta de Cores Pré-Fixadas no seaborn\n",
    "\n",
    "'Accent', 'Accent_r', 'Blues', 'Blues_r', 'BrBG', 'BrBG_r', 'BuGn', 'BuGn_r', 'BuPu', 'BuPu_r', 'CMRmap', 'CMRmap_r', 'Dark2', 'Dark2_r', 'GnBu', 'GnBu_r', 'Greens', 'Greens_r', 'Greys', 'Greys_r', 'OrRd', 'OrRd_r', 'Oranges', 'Oranges_r', 'PRGn', 'PRGn_r', 'Paired', 'Paired_r', 'Pastel1', 'Pastel1_r', 'Pastel2', 'Pastel2_r', 'PiYG', 'PiYG_r', 'PuBu', 'PuBuGn', 'PuBuGn_r', 'PuBu_r', 'PuOr', 'PuOr_r', 'PuRd', 'PuRd_r', 'Purples', 'Purples_r', 'RdBu', 'RdBu_r', 'RdGy', 'RdGy_r', 'RdPu', 'RdPu_r', 'RdYlBu', 'RdYlBu_r', 'RdYlGn', 'RdYlGn_r', 'Reds', 'Reds_r', 'Set1', 'Set1_r', 'Set2', 'Set2_r', 'Set3', 'Set3_r', 'Spectral', 'Spectral_r', 'Wistia', 'Wistia_r', 'YlGn', 'YlGnBu', 'YlGnBu_r', 'YlGn_r', 'YlOrBr', 'YlOrBr_r', 'YlOrRd', 'YlOrRd_r', 'afmhot', 'afmhot_r', 'autumn', 'autumn_r', 'binary', 'binary_r', 'bone', 'bone_r', 'brg', 'brg_r', 'bwr', 'bwr_r', 'cividis', 'cividis_r', 'cool', 'cool_r', 'coolwarm', 'coolwarm_r', 'copper', 'copper_r', 'crest', 'crest_r', 'cubehelix', 'cubehelix_r', 'flag', 'flag_r', 'flare', 'flare_r', 'gist_earth', 'gist_earth_r', 'gist_gray', 'gist_gray_r', 'gist_heat', 'gist_heat_r', 'gist_ncar', 'gist_ncar_r', 'gist_rainbow', 'gist_rainbow_r', 'gist_stern', 'gist_stern_r', 'gist_yarg', 'gist_yarg_r', 'gnuplot', 'gnuplot2', 'gnuplot2_r', 'gnuplot_r', 'gray', 'gray_r', 'hot', 'hot_r', 'hsv', 'hsv_r', 'icefire', 'icefire_r', 'inferno', 'inferno_r', 'jet', 'jet_r', 'magma', 'magma_r', 'mako', 'mako_r', 'nipy_spectral', 'nipy_spectral_r', 'ocean', 'ocean_r', 'pink', 'pink_r', 'plasma', 'plasma_r', 'prism', 'prism_r', 'rainbow', 'rainbow_r', 'rocket', 'rocket_r', 'seismic', 'seismic_r', 'spring', 'spring_r', 'summer', 'summer_r', 'tab10', 'tab10_r', 'tab20', 'tab20_r', 'tab20b', 'tab20b_r', 'tab20c', 'tab20c_r', 'terrain', 'terrain_r', 'turbo', 'turbo_r', 'twilight', 'twilight_r', 'twilight_shifted', 'twilight_shifted_r', 'viridis', 'viridis_r', 'vlag', 'vlag_r', 'winter', 'winter_r'"
   ]
  },
  {
   "cell_type": "markdown",
   "metadata": {},
   "source": [
    "## Explorando os dados de pessoas novas"
   ]
  },
  {
   "cell_type": "code",
   "execution_count": null,
   "metadata": {},
   "outputs": [],
   "source": [
    "dados.query('NU_IDADE <= 14').SG_UF_RESIDENCIA.value_counts()"
   ]
  },
  {
   "cell_type": "code",
   "execution_count": null,
   "metadata": {},
   "outputs": [],
   "source": [
    "dados.query('NU_IDADE <= 14').SG_UF_RESIDENCIA.value_counts(normalize=True) *100\n"
   ]
  },
  {
   "cell_type": "code",
   "execution_count": null,
   "metadata": {},
   "outputs": [],
   "source": [
    "idadeInscMenor14 = pd.DataFrame()\n",
    "idadeInscMenor14['QTDE'] = dados.query('NU_IDADE <= 14').SG_UF_RESIDENCIA.value_counts()\n",
    "idadeInscMenor14['PCT'] = dados.query('NU_IDADE <= 14').SG_UF_RESIDENCIA.value_counts(normalize=True) *100\n",
    "\n",
    "idadeInscMenor14"
   ]
  },
  {
   "cell_type": "markdown",
   "metadata": {},
   "source": [
    "## Escolhendo a melhor visualização para estes dados"
   ]
  },
  {
   "cell_type": "markdown",
   "metadata": {},
   "source": [
    "## Gráfico de Pizza - Pie Chart"
   ]
  },
  {
   "cell_type": "code",
   "execution_count": null,
   "metadata": {},
   "outputs": [],
   "source": [
    "idadeInscMenor14.PCT.plot.pie()"
   ]
  },
  {
   "cell_type": "code",
   "execution_count": null,
   "metadata": {},
   "outputs": [],
   "source": [
    "fig, ax = plt.subplots()\n",
    "fig.set_size_inches(10, 8)\n",
    "ax.pie(idadeInscMenor14.QTDE,\n",
    "       colors=sns.color_palette(palette=\"husl\", n_colors=30, desat=None),\n",
    "       labels=idadeInscMenor14.index, startangle=90)\n",
    "plt.title('UF dos Inscritos com menos de 14 anos', fontsize=25)\n",
    "plt.show()"
   ]
  },
  {
   "cell_type": "code",
   "execution_count": null,
   "metadata": {},
   "outputs": [],
   "source": [
    "sns.set_style('whitegrid')\n",
    "ax = sns.barplot(x=idadeInscMenor14.index, y= idadeInscMenor14.QTDE,\n",
    "             palette=sns.color_palette(palette=\"husl\", n_colors=30, desat=None))\n",
    "ax.figure.set_size_inches(10, 8)\n",
    "ax.set_yticks([x for x in range(19)])\n",
    "ax.set_title('UF dos Inscritos com menos de 14 anos', fontsize=25)"
   ]
  },
  {
   "cell_type": "markdown",
   "metadata": {},
   "source": [
    "## Análise Exploratória - Avaliando Notas x Renda Familiar"
   ]
  },
  {
   "cell_type": "markdown",
   "metadata": {},
   "source": [
    "### Boxplot da Q006 x Nota Matemática"
   ]
  },
  {
   "cell_type": "code",
   "execution_count": null,
   "metadata": {},
   "outputs": [],
   "source": [
    "sns.set_style('whitegrid')\n",
    "faixas_salariais = dados.Q006.unique()\n",
    "faixas_salariais.sort()\n",
    "ax = sns.boxplot(x = 'Q006', y = 'NU_NOTA_MT', data=dados,\n",
    "                 order = faixas_salariais, palette=sns.color_palette(palette=\"husl\", n_colors=30, desat=None))\n",
    "\n",
    "ax.figure.set_size_inches(16, 10)\n",
    "ax.set_title('Distribuição das Notas de Matemática Considerado as Faixas de Renda', fontsize=25)"
   ]
  },
  {
   "cell_type": "markdown",
   "metadata": {},
   "source": [
    "### Criando Coluna com a soma das notas de todas as provas"
   ]
  },
  {
   "cell_type": "code",
   "execution_count": null,
   "metadata": {},
   "outputs": [],
   "source": [
    "provas=['NU_NOTA_CN', 'NU_NOTA_CH', 'NU_NOTA_MT', 'NU_NOTA_LC', 'NU_NOTA_REDACAO']\n",
    "dados['NU_NOTA_TOTAL'] = dados[provas].sum(axis=1)\n",
    "provas.append('NU_NOTA_TOTAL')\n",
    "dados[provas].head()"
   ]
  },
  {
   "cell_type": "markdown",
   "metadata": {},
   "source": [
    "### Escrevendo Função para plotar um boxplot da Questão 006 x Coluna Indicada"
   ]
  },
  {
   "cell_type": "code",
   "execution_count": null,
   "metadata": {},
   "outputs": [],
   "source": [
    "def boxplot_Q006(dados : pd.DataFrame, col_ref : str, title : str, \n",
    "                 ax : plt.Axes = None, ymax : int = 1000) :\n",
    "    sns.set_style('whitegrid')\n",
    "    faixas_salariais = dados.Q006.unique()\n",
    "    faixas_salariais.sort()\n",
    "    if(ax == None) :\n",
    "        ax = sns.boxplot(x = 'Q006', y = col_ref, data=dados,\n",
    "                 order = faixas_salariais, \n",
    "                 palette=sns.color_palette(palette=\"husl\", n_colors=30, \n",
    "                                           desat=None))\n",
    "    else :     \n",
    "        sns.boxplot(x = 'Q006', y = col_ref, data=dados,\n",
    "                    order = faixas_salariais, \n",
    "                    palette=sns.color_palette(palette=\"husl\", n_colors=30,\n",
    "                                              desat=None),\n",
    "                    ax=ax)\n",
    "    ax.set_ylim(ymin=0, ymax=ymax)\n",
    "    ax.figure.set_size_inches(16, 10)\n",
    "    ax.set_title(title, fontsize=25)\n",
    "    return ax\n",
    "    "
   ]
  },
  {
   "cell_type": "markdown",
   "metadata": {},
   "source": [
    "### Plotando a relação das Classes Sociais com a Nota Total do ENEM"
   ]
  },
  {
   "cell_type": "code",
   "execution_count": null,
   "metadata": {},
   "outputs": [],
   "source": [
    "ax= boxplot_Q006(dados, col_ref = 'NU_NOTA_TOTAL', \n",
    "                 title = 'Distribuição da Nota Total Considerado as Faixas de Renda', \n",
    "                 ymax = dados.NU_NOTA_TOTAL.max() * 1.05)\n",
    "ax"
   ]
  },
  {
   "cell_type": "markdown",
   "metadata": {},
   "source": [
    "### Plotando a relação das Classes Sociais com a Nota de cada prova"
   ]
  },
  {
   "cell_type": "code",
   "execution_count": null,
   "metadata": {},
   "outputs": [],
   "source": [
    "fig = plt.figure(constrained_layout=True)\n",
    "fig.set_size_inches(16, 14)\n",
    "gs = GridSpec(ncols=2, nrows=2, figure=fig)\n",
    "ax0 = fig.add_subplot(gs[0, 0])\n",
    "ax1 = fig.add_subplot(gs[0, 1])\n",
    "ax2 = fig.add_subplot(gs[1, 0])\n",
    "ax3 = fig.add_subplot(gs[1, 1])\n",
    "\n",
    "boxplot_Q006(dados, 'NU_NOTA_MT', 'Q006 x Matemática', ax=ax0)\n",
    "boxplot_Q006(dados, 'NU_NOTA_LC', 'Q006 x Linguagens e Códigos', ax=ax1)\n",
    "boxplot_Q006(dados, 'NU_NOTA_CN', 'Q006 x Ciências da Natureza', ax=ax2)\n",
    "boxplot_Q006(dados, 'NU_NOTA_CH', 'Q006 x Ciências Humanas', ax=ax3)\n",
    "\n"
   ]
  },
  {
   "cell_type": "markdown",
   "metadata": {},
   "source": [
    "## Examinando o comportamento do boxplot através do histograma de notas"
   ]
  },
  {
   "cell_type": "code",
   "execution_count": null,
   "metadata": {},
   "outputs": [],
   "source": [
    "sns.set_style('whitegrid')\n",
    "ax = sns.histplot(data = dados.NU_NOTA_TOTAL, \n",
    "                  palette=sns.color_palette(palette=\"husl\", n_colors=1,\n",
    "                                              desat=None))\n",
    "ax.set_title('Distribuição da Frequencia da Nota Total das Provas', fontsize=25)\n",
    "ax.figure.set_size_inches(12,6)\n",
    "ax"
   ]
  },
  {
   "cell_type": "code",
   "execution_count": null,
   "metadata": {},
   "outputs": [],
   "source": [
    "from scipy.stats import normaltest\n",
    "significancia = 0.10\n",
    "stat_test, p_value = normaltest(dados.query('NU_NOTA_REDACAO > 0').NU_NOTA_REDACAO)\n",
    "p_value"
   ]
  },
  {
   "cell_type": "markdown",
   "metadata": {},
   "source": [
    "## Examinando o significado da moda (Nota 0)"
   ]
  },
  {
   "cell_type": "code",
   "execution_count": null,
   "metadata": {},
   "outputs": [],
   "source": [
    "dados_pv_validas = dados.query('TP_PRESENCA_CN == 1 | TP_PRESENCA_CH == 1 | TP_PRESENCA_LC == 1 | TP_PRESENCA_MT == 1')\n",
    "dados_pv_completas = dados.query('TP_PRESENCA_CN == 1 & TP_PRESENCA_CH == 1 & TP_PRESENCA_LC == 1 & TP_PRESENCA_MT == 1')\n"
   ]
  },
  {
   "cell_type": "code",
   "execution_count": null,
   "metadata": {},
   "outputs": [],
   "source": [
    "sns.set_style('whitegrid')\n",
    "ax = sns.histplot(data = dados_pv_validas.NU_NOTA_TOTAL, \n",
    "                  palette=sns.color_palette(palette=\"husl\", n_colors=1,\n",
    "                                              desat=None), kde=True)\n",
    "ax.set_title('Distribuição da Frequencia da Nota Total das Provas (ao menos uma prova realizada)', fontsize=25)\n",
    "ax.figure.set_size_inches(12,6)\n",
    "ax"
   ]
  },
  {
   "cell_type": "code",
   "execution_count": null,
   "metadata": {},
   "outputs": [],
   "source": [
    "sns.set_style('whitegrid')\n",
    "ax = sns.histplot(data = dados_pv_completas.NU_NOTA_TOTAL, \n",
    "                  palette=sns.color_palette(palette=\"husl\", n_colors=1,\n",
    "                                              desat=None), kde=True)\n",
    "ax.set_title('Distribuição da Frequencia da Nota Total das Provas (todas as provas realizadas)', fontsize=25)\n",
    "ax.figure.set_size_inches(12,6)\n",
    "ax"
   ]
  },
  {
   "cell_type": "code",
   "execution_count": null,
   "metadata": {},
   "outputs": [],
   "source": []
  },
  {
   "cell_type": "markdown",
   "metadata": {},
   "source": [
    "## Analisando o comportamento considerando treineiros"
   ]
  },
  {
   "cell_type": "code",
   "execution_count": null,
   "metadata": {},
   "outputs": [],
   "source": [
    "ax= boxplot_Q006(dados_pv_completas, col_ref = 'NU_NOTA_TOTAL', \n",
    "                 title = 'Distribuição da Nota Total Considerando as Faixas de Renda (Provas Completas)', \n",
    "                 ymax = dados.NU_NOTA_TOTAL.max() * 1.05)"
   ]
  },
  {
   "cell_type": "code",
   "execution_count": null,
   "metadata": {},
   "outputs": [],
   "source": [
    "sns.set_style('whitegrid')\n",
    "faixas_salariais = dados.Q006.unique()\n",
    "faixas_salariais.sort()\n",
    "ax = sns.boxplot(x = 'Q006', y = 'NU_NOTA_TOTAL', data=dados_pv_completas,\n",
    "                 order = faixas_salariais, palette='summer',\n",
    "                hue='IN_TREINEIRO')\n",
    "\n",
    "ax.figure.set_size_inches(16, 10)\n",
    "ax.set_title('Distribuição da Nota Total Considerando as Faixas de Renda (Provas Completas)', fontsize=25)"
   ]
  },
  {
   "cell_type": "markdown",
   "metadata": {},
   "source": [
    "## <font color=\"#1D334A\" size=8>Aula 03 - Distribuições e Correlações</font>"
   ]
  },
  {
   "cell_type": "markdown",
   "metadata": {},
   "source": [
    "## Avaliando Assimetrias"
   ]
  },
  {
   "cell_type": "code",
   "execution_count": null,
   "metadata": {},
   "outputs": [],
   "source": [
    "sns.set_style('whitegrid')\n",
    "ax = sns.histplot(dados_pv_completas.query('NU_NOTA_REDACAO > 0').NU_NOTA_REDACAO, kde=True, bins=47)\n",
    "ax.set_title('Distribuição de Frequencia da Nota de Redação', fontsize=20)\n",
    "ax.figure.set_size_inches(12,6)\n"
   ]
  },
  {
   "cell_type": "code",
   "execution_count": null,
   "metadata": {},
   "outputs": [],
   "source": [
    "print(dados_pv_completas.NU_NOTA_LC.mean())\n",
    "print(dados_pv_completas.NU_NOTA_LC.median())\n",
    "print(dados_pv_completas.NU_NOTA_LC.mode()[0])"
   ]
  },
  {
   "cell_type": "code",
   "execution_count": null,
   "metadata": {},
   "outputs": [],
   "source": [
    "sns.set_style('whitegrid')\n",
    "ax = sns.histplot(dados_pv_completas.NU_NOTA_MT, kde=True, bins=47)\n",
    "ax.set_title('Distribuição de Frequencia da Nota de Matemática', fontsize=20)\n",
    "ax.figure.set_size_inches(12,6)"
   ]
  },
  {
   "cell_type": "code",
   "execution_count": null,
   "metadata": {},
   "outputs": [],
   "source": [
    "sns.set_style('whitegrid')\n",
    "ax = sns.histplot(dados_pv_completas.NU_NOTA_LC, kde=True, bins=47)\n",
    "ax.set_title('Distribuição de Frequencia da Nota de Linguagem e Códigos', fontsize=20)\n",
    "ax.figure.set_size_inches(12,6)"
   ]
  },
  {
   "cell_type": "code",
   "execution_count": null,
   "metadata": {},
   "outputs": [],
   "source": [
    "from sklearn.preprocessing import PowerTransformer\n",
    "dados_pv_completas_maior_zero = dados_pv_completas[dados.NU_NOTA_MT > 0]\n",
    "\n",
    "dados_pv_completas_maior_zero['NU_NOTA_MT_TRANS'] = PowerTransformer(method='box-cox').fit_transform(dados_pv_completas_maior_zero[['NU_NOTA_MT']])\n"
   ]
  },
  {
   "cell_type": "code",
   "execution_count": null,
   "metadata": {},
   "outputs": [],
   "source": [
    "sns.set_style('whitegrid')\n",
    "ax = sns.histplot(dados_pv_completas_maior_zero.NU_NOTA_MT_TRANS, kde=True, bins=47)\n",
    "ax.set_title('Distribuição de Frequencia da Nota de Matemática', fontsize=20)\n",
    "ax.figure.set_size_inches(12,6)\n",
    "\n",
    "print(dados_pv_completas.NU_NOTA_MT_TRANS.mean())\n",
    "print(dados_pv_completas.NU_NOTA_MT_TRANS.median())\n",
    "print(dados_pv_completas.NU_NOTA_MT_TRANS.mode()[0])"
   ]
  },
  {
   "cell_type": "markdown",
   "metadata": {},
   "source": [
    "## Realizando comparação de comportamento pela frequência de histogramas"
   ]
  },
  {
   "cell_type": "code",
   "execution_count": null,
   "metadata": {
    "scrolled": false
   },
   "outputs": [],
   "source": [
    "sns.set_style('whitegrid')\n",
    "ax = sns.histplot(dados_pv_completas.query(\"Q025 == 'A'\").NU_NOTA_TOTAL, kde=True, bins=100, color='#FFD700', label='Sem Acesso')\n",
    "sns.histplot(dados_pv_completas.query(\"Q025 == 'B'\").NU_NOTA_TOTAL, kde=True, bins=100, color='#000000', label='Com Acesso', ax=ax)\n",
    "ax.set_title('Distribuição de Frequencia da Nota Total x Q025', fontsize=20)\n",
    "ax.figure.set_size_inches(12,6)\n",
    "ax.legend()\n",
    "ax"
   ]
  },
  {
   "cell_type": "markdown",
   "metadata": {},
   "source": [
    "\n",
    "\n",
    "### Usando histograma para avaliar medidas separatrizes da nota de redaçao"
   ]
  },
  {
   "cell_type": "code",
   "execution_count": null,
   "metadata": {},
   "outputs": [],
   "source": [
    "sns.set_style('whitegrid')\n",
    "ax = sns.histplot(dados_pv_completas.NU_NOTA_MT, kde=True, bins=100, color='#BF9500', cumulative=True, stat='density')\n",
    "ax.set_title('Distribuição de Frequencia Cumulativa da Nota de Matemática', fontsize=20)\n",
    "ax.figure.set_size_inches(12,6)\n"
   ]
  },
  {
   "cell_type": "code",
   "execution_count": null,
   "metadata": {},
   "outputs": [],
   "source": [
    "dados_pv_completas.NU_NOTA_MT.quantile(0.97)"
   ]
  },
  {
   "cell_type": "markdown",
   "metadata": {},
   "source": [
    "## Correlações"
   ]
  },
  {
   "cell_type": "markdown",
   "metadata": {},
   "source": [
    "### Correlação entre Notas de MT x Notas de CN"
   ]
  },
  {
   "cell_type": "code",
   "execution_count": null,
   "metadata": {},
   "outputs": [],
   "source": [
    "fig, ax0 = plt.subplots()\n",
    "fig.set_size_inches(10, 10)\n",
    "sns.scatterplot(x = 'NU_NOTA_MT', y = 'NU_NOTA_CN', data = dados_pv_completas, color='#BF9500', ax=ax0)\n",
    "ax0.set_xlim(0, 1050)\n",
    "ax0.set_ylim(0, 1050)\n",
    "ax0.set_xlabel('Nota de Matemática', fontsize=22)\n",
    "ax0.set_ylabel('Nota de Ciências Naturais', fontsize=22)"
   ]
  },
  {
   "cell_type": "markdown",
   "metadata": {},
   "source": [
    "### Correlação entre Notas\n"
   ]
  },
  {
   "cell_type": "code",
   "execution_count": null,
   "metadata": {},
   "outputs": [],
   "source": [
    "sns.set_style('whitegrid')\n",
    "sns.set_palette('summer')\n",
    "ax = sns.pairplot(data=dados_pv_completas[provas])\n",
    "ax.fig.suptitle('Correlação entre as Notas', y=1.05, fontsize=20)"
   ]
  },
  {
   "cell_type": "markdown",
   "metadata": {},
   "source": [
    "## Correlação entre Notas de MT x Notas de LC e uma terceira dimensão (acesso a internet)"
   ]
  },
  {
   "cell_type": "code",
   "execution_count": null,
   "metadata": {},
   "outputs": [],
   "source": [
    "fig, ax0 = plt.subplots()\n",
    "fig.set_size_inches(10, 10)\n",
    "sns.scatterplot(x = 'NU_NOTA_MT', y = 'NU_NOTA_CN', data = dados_pv_completas, palette='summer_r', ax=ax0, hue='Q025', alpha=0.9)\n",
    "ax0.set_xlim(0, 1050)\n",
    "ax0.set_ylim(0, 1050)\n",
    "ax0.set_xlabel('Nota de Matemática', fontsize=22)\n",
    "ax0.set_ylabel('Nota de Ciências Naturais', fontsize=22)"
   ]
  },
  {
   "cell_type": "markdown",
   "metadata": {},
   "source": [
    "## Correlação entre Notas - Pearson\n",
    "\n",
    "\n"
   ]
  },
  {
   "cell_type": "markdown",
   "metadata": {},
   "source": [
    "Correlação é qualquer relação estatística (causal ou não causal) entre duas variáveis.\n",
    "\n",
    "Embora seja comumente denotada como a medida de relação entre duas variáveis aleatórias, correlação não implica causalidade.\n",
    "\n",
    "Correlações espúrias: https://www.tylervigen.com/spurious-correlations\n",
    "\n",
    "\n",
    "<img src='img/pearson.png' width='65%'>"
   ]
  },
  {
   "cell_type": "code",
   "execution_count": null,
   "metadata": {},
   "outputs": [],
   "source": [
    "correlacao_notas = dados_pv_completas[provas].corr()\n",
    "\n",
    "correlacao_notas"
   ]
  },
  {
   "cell_type": "markdown",
   "metadata": {},
   "source": [
    "## Interpretação dos valores da Correlação\n",
    "\n",
    "<img src='img/pearson02.png' width='65%'>"
   ]
  },
  {
   "cell_type": "markdown",
   "metadata": {},
   "source": [
    "## Visualização da Correlação entre Notas"
   ]
  },
  {
   "cell_type": "code",
   "execution_count": null,
   "metadata": {},
   "outputs": [],
   "source": [
    "ax = sns.heatmap(correlacao_notas, cmap=\"summer_r\", square=True, annot=True)\n",
    "ax.set_title('Mapa de Correlação de Pearson das Notas', fontsize=22, y=1.05)"
   ]
  },
  {
   "cell_type": "code",
   "execution_count": null,
   "metadata": {},
   "outputs": [],
   "source": [
    "fig = plt.figure(constrained_layout=True)\n",
    "fig.set_size_inches(15, 5)\n",
    "gs = GridSpec(ncols=3, nrows=1, figure=fig)\n",
    "ax0 = fig.add_subplot(gs[0, 0])\n",
    "ax1 = fig.add_subplot(gs[0, 1])\n",
    "ax2 = fig.add_subplot(gs[0, 2])\n",
    "\n",
    "sns.scatterplot(x = 'NU_NOTA_LC', y = 'NU_NOTA_MT', data = dados_pv_completas, color='#BF9500', ax=ax0)\n",
    "ax0.set_xlim(0, 1050)\n",
    "ax0.set_ylim(0, 1050)\n",
    "sns.scatterplot(x = 'NU_NOTA_LC', y = 'NU_NOTA_CH', data = dados_pv_completas, color='#BF9500', ax=ax1)\n",
    "ax1.set_xlim(0, 1050)\n",
    "ax1.set_ylim(0, 1050)\n",
    "sns.scatterplot(x = 'NU_NOTA_LC', y = 'NU_NOTA_CN', data = dados_pv_completas, color='#BF9500', ax=ax2)\n",
    "ax2.set_xlim(0, 1050)\n",
    "ax2.set_ylim(0, 1050)\n",
    "\n"
   ]
  },
  {
   "cell_type": "markdown",
   "metadata": {},
   "source": [
    "## <font color=\"#1D334A\" size=8>Aula 04 - Regressão</font>"
   ]
  },
  {
   "cell_type": "markdown",
   "metadata": {},
   "source": [
    "### Selecionando os dados de variáveis quantitativas para regressão \n",
    "### Convertendo dados de variáveis qualitativas ordinais\n",
    "\n"
   ]
  },
  {
   "cell_type": "code",
   "execution_count": null,
   "metadata": {},
   "outputs": [],
   "source": [
    "renda = {'A' : 0, 'B' : 1, 'C' : 2, 'D' : 3, 'E' : 4, 'F' : 5, 'G' : 6, 'H' : 7, 'I' : 8,\n",
    "         'J' : 9, 'K' : 10, 'L' : 11, 'M' : 12, 'N' : 13, 'O': 14, 'P' : 15, 'Q' : 16}\n",
    "\n",
    "\n",
    "var_quantitativas = ['NU_NOTA_CN', 'NU_NOTA_CH', 'NU_NOTA_MT', 'NU_NOTA_LC', 'NU_NOTA_REDACAO', \n",
    "                     'NU_IDADE', 'Q006', 'Q005']\n",
    "var_dependente =  'NU_NOTA_MT'\n",
    "var_explicativas = ['NU_NOTA_CN', 'NU_NOTA_CH', 'NU_NOTA_LC', 'NU_NOTA_REDACAO', \n",
    "                     'NU_IDADE', 'Q006', 'Q005']\n",
    "                     \n",
    "\n",
    "dadosRL = dados_pv_completas.query('NU_NOTA_CN > 0 & NU_NOTA_CH > 0 & NU_NOTA_MT > 0 & NU_NOTA_LC > 0 & NU_NOTA_REDACAO > 0').copy()\n",
    "dadosRL = dadosRL[var_quantitativas]\n",
    "dadosRL.dropna(axis='index', inplace=True)\n",
    "\n",
    "dadosRL.Q006 = dadosRL.Q006.map(renda)\n",
    "\n",
    "dadosRL"
   ]
  },
  {
   "cell_type": "markdown",
   "metadata": {},
   "source": [
    "### Avaliando qualitativamente a relação entre a variável dependente e as variáveis explicativas"
   ]
  },
  {
   "cell_type": "code",
   "execution_count": null,
   "metadata": {},
   "outputs": [],
   "source": [
    "dadosRL.corr()"
   ]
  },
  {
   "cell_type": "markdown",
   "metadata": {},
   "source": [
    " ### Avaliando visualmente a relação entre a variável dependente e a variável explicativa"
   ]
  },
  {
   "cell_type": "code",
   "execution_count": null,
   "metadata": {
    "scrolled": false
   },
   "outputs": [],
   "source": [
    "fig = plt.figure(constrained_layout=True)\n",
    "fig.set_size_inches(15, 15)\n",
    "gs = GridSpec(ncols=3, nrows=3, figure=fig)\n",
    "ax0 = fig.add_subplot(gs[0, 0])\n",
    "ax1 = fig.add_subplot(gs[0, 1])\n",
    "ax2 = fig.add_subplot(gs[0, 2])\n",
    "ax3 = fig.add_subplot(gs[1, 0])\n",
    "ax4 = fig.add_subplot(gs[1, 1])\n",
    "ax5 = fig.add_subplot(gs[1, 2])\n",
    "ax6 = fig.add_subplot(gs[2, :])\n",
    "\n",
    "\n",
    "sns.scatterplot(x = 'NU_NOTA_LC', y = 'NU_NOTA_MT', data = dadosRL, color='#BF9500', ax=ax0)\n",
    "ax0.set_xlim(0, 1050)\n",
    "ax0.set_ylim(0, 1050)\n",
    "sns.scatterplot(x = 'NU_NOTA_CH', y = 'NU_NOTA_MT', data = dadosRL, color='#BF9500', ax=ax1)\n",
    "ax1.set_xlim(0, 1050)\n",
    "ax1.set_ylim(0, 1050)\n",
    "sns.scatterplot(x = 'NU_NOTA_CN', y = 'NU_NOTA_MT', data = dadosRL, color='#BF9500', ax=ax2)\n",
    "ax2.set_xlim(0, 1050)\n",
    "ax2.set_ylim(0, 1050)\n",
    "sns.scatterplot(x = 'NU_NOTA_REDACAO', y = 'NU_NOTA_MT', data = dadosRL, color='#BF9500', ax=ax3)\n",
    "ax3.set_xlim(0, 1050)\n",
    "ax3.set_ylim(0, 1050)\n",
    "\n",
    "sns.scatterplot(x = 'Q006', y = 'NU_NOTA_MT', data = dadosRL, color='#BF9500', ax=ax4)\n",
    "ax4.set_xlim(0, 17)\n",
    "ax4.set_ylim(0, 1050)\n",
    "sns.scatterplot(x = 'Q005', y = 'NU_NOTA_MT', data = dadosRL, color='#BF9500', ax=ax5)\n",
    "ax5.set_xlim(0, 21)\n",
    "ax5.set_ylim(0, 1050)\n",
    "sns.scatterplot(x = 'NU_IDADE', y = 'NU_NOTA_MT', data = dadosRL, color='#BF9500', ax=ax6)\n",
    "ax6.set_xlim(0, 100)\n",
    "ax6.set_ylim(0, 1050)"
   ]
  },
  {
   "cell_type": "markdown",
   "metadata": {},
   "source": [
    "### Escrevendo função de predição da nota de matemática"
   ]
  },
  {
   "cell_type": "code",
   "execution_count": null,
   "metadata": {},
   "outputs": [],
   "source": [
    "def nota_matematica(model : object, valores : pd.Series) :\n",
    "    return model.params.x1 * valores[0] + model.params.x2 * valores[1] + model.params.x3 * valores[2] + model.params.const"
   ]
  },
  {
   "cell_type": "markdown",
   "metadata": {},
   "source": [
    "## Avaliação de Modelos Preditivos - Métricas"
   ]
  },
  {
   "cell_type": "markdown",
   "metadata": {},
   "source": [
    "### Escrevendo função de avaliação dos modelos"
   ]
  },
  {
   "cell_type": "code",
   "execution_count": null,
   "metadata": {},
   "outputs": [],
   "source": []
  },
  {
   "cell_type": "markdown",
   "metadata": {},
   "source": [
    "### Preparando dados de teste, dados fixos de treino (variável dependente) e dataset de resumo de predições / métricas"
   ]
  },
  {
   "cell_type": "code",
   "execution_count": null,
   "metadata": {},
   "outputs": [],
   "source": [
    "dadosRL.drop(labels=['NU_NOTA_REDACAO', 'NU_IDADE', 'Q006', 'Q005'], axis='columns', inplace=True)"
   ]
  },
  {
   "cell_type": "code",
   "execution_count": null,
   "metadata": {
    "scrolled": false
   },
   "outputs": [],
   "source": [
    "dadosRL.index = range(dadosRL.shape[0])\n",
    "\n",
    "size = dadosRL.shape[0]\n",
    "treino_size = int(size * 0.80)\n",
    "\n",
    "teste = dadosRL.loc[treino_size:, ]\n",
    "teste.index = range(teste.shape[0])\n"
   ]
  },
  {
   "cell_type": "markdown",
   "metadata": {},
   "source": [
    "### Preparando dados de treino e gerando dados de avaliação da predição"
   ]
  },
  {
   "cell_type": "code",
   "execution_count": null,
   "metadata": {},
   "outputs": [],
   "source": [
    "treino = dadosRL.loc[:treino_size, ]\n",
    "treino.index = range(treino.shape[0])\n",
    "y = treino[var_dependente]"
   ]
  },
  {
   "cell_type": "code",
   "execution_count": null,
   "metadata": {
    "scrolled": false
   },
   "outputs": [],
   "source": [
    "import statsmodels.api as sm\n",
    "\n",
    "X = np.column_stack((treino.NU_NOTA_CN, treino.NU_NOTA_CH, treino.NU_NOTA_LC))\n",
    "X_Const = sm.add_constant(X)\n",
    "model = sm.OLS(y, X_Const).fit()\n",
    "print(model.summary())"
   ]
  },
  {
   "cell_type": "code",
   "execution_count": null,
   "metadata": {},
   "outputs": [],
   "source": [
    "nota_mt =  (0.5582 * 389.7) + (0.3158 * 490.8) + (0.3107 * 557.7) - 66.9060\n",
    "print(nota_mt)\n",
    "notas = pd.Series([389.7, 490.8, 557.7])\n",
    "nota_mt_2 = nota_matematica(model, notas)\n",
    "print(nota_mt_2)\n"
   ]
  },
  {
   "cell_type": "code",
   "execution_count": null,
   "metadata": {},
   "outputs": [],
   "source": []
  },
  {
   "cell_type": "markdown",
   "metadata": {},
   "source": [
    "> R-squared é o percentual da variação da variável dependente que um modelo linear consegue explicar. Varia de 0% (quando, o modelo não explica qualquer variação da variável resposta em torno do seu valor médio) a 100% (quando, o modelo explica toda variação da variável resposta em torno do seu valor médio)\n",
    "\n",
    "> Adjusted R-squared considera o número de termos no modelo. Quando um novo termo não melhora o R-squared, o modelo perde em liberdade e Adjusted R-squared diminui de valor.\n",
    "\n",
    "> F-statistic e Prob (F-statistic): O Teste F serve para verificar se ao menos uma variável explicativa contribui significativamente para o modelo. O Teste F compara um modelo sem preditores com o modelo de regressão especificado. Um modelo de regressão que não contém preditores também é conhecido como um modelo somente com o intercepto. Na prática ele compara se o seu modelo é melhor do que um outro que simplesmente retorna a média da variável dependente. o Prob (F-statistic) testa o nível de significância de rejeição da hipótese nula (o ajuste do modelo somente com o intercepto e seu modelo são iguais). Costuma-se considerar um valor abaixo de 5% como estatisticamente relevante.\n",
    "\n",
    "> P>|t| é o equivalente a Prob (F-statistic) considerando cada variável individualmente\n",
    "\n"
   ]
  },
  {
   "cell_type": "markdown",
   "metadata": {},
   "source": [
    "### Normalizando dados de treino e gerando dados de avaliação da predição do modelo normalizado\n"
   ]
  },
  {
   "cell_type": "markdown",
   "metadata": {},
   "source": [
    "### Função de Normalização"
   ]
  },
  {
   "cell_type": "code",
   "execution_count": null,
   "metadata": {},
   "outputs": [],
   "source": []
  },
  {
   "cell_type": "markdown",
   "metadata": {},
   "source": [
    "### Avaliando dados gerados após normalização"
   ]
  },
  {
   "cell_type": "code",
   "execution_count": null,
   "metadata": {},
   "outputs": [],
   "source": []
  },
  {
   "cell_type": "code",
   "execution_count": null,
   "metadata": {},
   "outputs": [],
   "source": []
  },
  {
   "cell_type": "markdown",
   "metadata": {},
   "source": [
    "### Gerando comparação com um preditor baseline"
   ]
  },
  {
   "cell_type": "code",
   "execution_count": null,
   "metadata": {},
   "outputs": [],
   "source": []
  },
  {
   "cell_type": "markdown",
   "metadata": {},
   "source": [
    "### Exibindo comparativo das métricas de avaliação de cada modelo"
   ]
  },
  {
   "cell_type": "code",
   "execution_count": null,
   "metadata": {},
   "outputs": [],
   "source": []
  },
  {
   "cell_type": "markdown",
   "metadata": {},
   "source": [
    "### Avaliação Visual do Erro e Heterocedasticidade\n",
    "\n",
    "Homocedasticidade acontece quando os dados regredidos encontram-se mais homogeneamente e menos dispersos (concentrados) em torno da reta de regressão do modelo\n",
    "\n",
    "Heterocedasticidade é o fenômeno estatístico que ocorre quando o modelo de hipótese matemático apresenta variâncias para Y e X(X1, X2, X3,..., Xn) não iguais para todas as observações\n",
    "\n",
    "<img src='img/heterocedasticidade.jpg' width='65%'>"
   ]
  },
  {
   "cell_type": "code",
   "execution_count": null,
   "metadata": {},
   "outputs": [],
   "source": []
  },
  {
   "cell_type": "markdown",
   "metadata": {},
   "source": [
    "### Exibindo comparativo das predições geradas por cada um dos modelos"
   ]
  },
  {
   "cell_type": "code",
   "execution_count": null,
   "metadata": {},
   "outputs": [],
   "source": []
  },
  {
   "cell_type": "markdown",
   "metadata": {},
   "source": [
    "## <font color=\"#1D334A\" size=8>Aula 05 - Machine Learning</font>"
   ]
  },
  {
   "cell_type": "markdown",
   "metadata": {},
   "source": [
    "## Criando um modelo de Regressão Linear com scikit-learn"
   ]
  },
  {
   "cell_type": "code",
   "execution_count": null,
   "metadata": {},
   "outputs": [],
   "source": []
  },
  {
   "cell_type": "markdown",
   "metadata": {},
   "source": [
    "### Preparando dados de treinamento e de teste"
   ]
  },
  {
   "cell_type": "code",
   "execution_count": null,
   "metadata": {},
   "outputs": [],
   "source": []
  },
  {
   "cell_type": "markdown",
   "metadata": {},
   "source": [
    "### Criando o modelo e gerando as métricas de avaliacao"
   ]
  },
  {
   "cell_type": "code",
   "execution_count": null,
   "metadata": {},
   "outputs": [],
   "source": []
  },
  {
   "cell_type": "markdown",
   "metadata": {},
   "source": [
    "### Criando um Dummy Regressor e Avaliando os Resultados"
   ]
  },
  {
   "cell_type": "code",
   "execution_count": null,
   "metadata": {},
   "outputs": [],
   "source": []
  },
  {
   "cell_type": "code",
   "execution_count": null,
   "metadata": {},
   "outputs": [],
   "source": []
  },
  {
   "cell_type": "markdown",
   "metadata": {},
   "source": [
    "### Criando um regressor baseado em SVM"
   ]
  },
  {
   "cell_type": "code",
   "execution_count": null,
   "metadata": {},
   "outputs": [],
   "source": []
  },
  {
   "cell_type": "code",
   "execution_count": null,
   "metadata": {},
   "outputs": [],
   "source": []
  },
  {
   "cell_type": "markdown",
   "metadata": {},
   "source": [
    "### Parametrizando as variáveis antes de aplica ao regressor baseado em SVM\n"
   ]
  },
  {
   "cell_type": "code",
   "execution_count": null,
   "metadata": {},
   "outputs": [],
   "source": []
  },
  {
   "cell_type": "code",
   "execution_count": null,
   "metadata": {},
   "outputs": [],
   "source": []
  },
  {
   "cell_type": "markdown",
   "metadata": {},
   "source": [
    "### Árvores de Decisão"
   ]
  },
  {
   "cell_type": "code",
   "execution_count": null,
   "metadata": {
    "scrolled": false
   },
   "outputs": [],
   "source": []
  },
  {
   "cell_type": "code",
   "execution_count": null,
   "metadata": {},
   "outputs": [],
   "source": []
  },
  {
   "cell_type": "markdown",
   "metadata": {},
   "source": [
    "### Visualizando as regras de decisão de uma Árvore de Decisão"
   ]
  },
  {
   "cell_type": "code",
   "execution_count": null,
   "metadata": {},
   "outputs": [],
   "source": []
  },
  {
   "cell_type": "code",
   "execution_count": null,
   "metadata": {},
   "outputs": [],
   "source": []
  },
  {
   "cell_type": "markdown",
   "metadata": {},
   "source": [
    "### Observando como uma árvore de decisão realiza predições "
   ]
  },
  {
   "cell_type": "code",
   "execution_count": null,
   "metadata": {},
   "outputs": [],
   "source": []
  },
  {
   "cell_type": "markdown",
   "metadata": {},
   "source": [
    "### Usando uma Random Forest para Predição"
   ]
  },
  {
   "cell_type": "code",
   "execution_count": null,
   "metadata": {},
   "outputs": [],
   "source": []
  },
  {
   "cell_type": "code",
   "execution_count": null,
   "metadata": {},
   "outputs": [],
   "source": []
  },
  {
   "cell_type": "markdown",
   "metadata": {},
   "source": [
    "## <font color=\"#1D334A\" size=8>Aula 06 - Classificação</font>"
   ]
  },
  {
   "cell_type": "markdown",
   "metadata": {},
   "source": [
    "### Observando variáveis que podem predizer se uma redação será zerada \n"
   ]
  },
  {
   "cell_type": "code",
   "execution_count": null,
   "metadata": {},
   "outputs": [],
   "source": []
  },
  {
   "cell_type": "code",
   "execution_count": null,
   "metadata": {},
   "outputs": [],
   "source": []
  },
  {
   "cell_type": "markdown",
   "metadata": {},
   "source": [
    "### Inspecionando visualmente a relação das variáveis explicativas, com a variável dependente"
   ]
  },
  {
   "cell_type": "code",
   "execution_count": null,
   "metadata": {},
   "outputs": [],
   "source": []
  },
  {
   "cell_type": "markdown",
   "metadata": {},
   "source": [
    "### Tratando as variáveis categóricas para One Hot Encoding"
   ]
  },
  {
   "cell_type": "code",
   "execution_count": null,
   "metadata": {},
   "outputs": [],
   "source": []
  },
  {
   "cell_type": "markdown",
   "metadata": {},
   "source": [
    "### Aprendizado Supervisionado - Gerando dados de Teste"
   ]
  },
  {
   "cell_type": "code",
   "execution_count": null,
   "metadata": {},
   "outputs": [],
   "source": []
  },
  {
   "cell_type": "code",
   "execution_count": null,
   "metadata": {},
   "outputs": [],
   "source": []
  },
  {
   "cell_type": "markdown",
   "metadata": {},
   "source": [
    "### Avaliando a qualidade do classificador - Métricas de Avaliação "
   ]
  },
  {
   "cell_type": "markdown",
   "metadata": {},
   "source": [
    "#### Acurácia"
   ]
  },
  {
   "cell_type": "code",
   "execution_count": null,
   "metadata": {},
   "outputs": [],
   "source": []
  },
  {
   "cell_type": "code",
   "execution_count": null,
   "metadata": {},
   "outputs": [],
   "source": []
  },
  {
   "cell_type": "code",
   "execution_count": null,
   "metadata": {},
   "outputs": [],
   "source": []
  },
  {
   "cell_type": "code",
   "execution_count": null,
   "metadata": {},
   "outputs": [],
   "source": []
  },
  {
   "cell_type": "markdown",
   "metadata": {},
   "source": [
    "### Matriz de Confusão\n"
   ]
  },
  {
   "cell_type": "code",
   "execution_count": null,
   "metadata": {},
   "outputs": [],
   "source": []
  },
  {
   "cell_type": "code",
   "execution_count": null,
   "metadata": {},
   "outputs": [],
   "source": []
  },
  {
   "cell_type": "markdown",
   "metadata": {},
   "source": [
    "### Usando up sampling - SMOTE"
   ]
  },
  {
   "cell_type": "code",
   "execution_count": null,
   "metadata": {},
   "outputs": [],
   "source": []
  },
  {
   "cell_type": "code",
   "execution_count": null,
   "metadata": {},
   "outputs": [],
   "source": []
  },
  {
   "cell_type": "code",
   "execution_count": null,
   "metadata": {},
   "outputs": [],
   "source": []
  },
  {
   "cell_type": "code",
   "execution_count": null,
   "metadata": {},
   "outputs": [],
   "source": []
  },
  {
   "cell_type": "code",
   "execution_count": null,
   "metadata": {},
   "outputs": [],
   "source": []
  },
  {
   "cell_type": "code",
   "execution_count": null,
   "metadata": {},
   "outputs": [],
   "source": []
  },
  {
   "cell_type": "markdown",
   "metadata": {},
   "source": [
    "### Matriz de Confusão do Baseline"
   ]
  },
  {
   "cell_type": "code",
   "execution_count": null,
   "metadata": {
    "scrolled": true
   },
   "outputs": [],
   "source": []
  },
  {
   "cell_type": "markdown",
   "metadata": {},
   "source": [
    "### Precisão, Revocação e Especificidade\n",
    "\n",
    "| Precisão é a probabilidade de que um aluno que tenha sua nota prevista como zero, realmente zere a nota\n",
    "\n",
    "| Revocação é a probabilidade de que um aluno que zere a nota tenha a sua nota prevista como zero \n",
    "\n",
    "| Especificidade é a probabilidade de que um aluno que seja previsto como não zere, realmente tenha a sua nota como não zero -- uso em situações mais específicas"
   ]
  },
  {
   "cell_type": "code",
   "execution_count": null,
   "metadata": {},
   "outputs": [],
   "source": []
  },
  {
   "cell_type": "code",
   "execution_count": null,
   "metadata": {},
   "outputs": [],
   "source": []
  },
  {
   "cell_type": "markdown",
   "metadata": {},
   "source": [
    "### Pontuação F-Score"
   ]
  },
  {
   "cell_type": "code",
   "execution_count": null,
   "metadata": {},
   "outputs": [],
   "source": []
  },
  {
   "cell_type": "code",
   "execution_count": null,
   "metadata": {},
   "outputs": [],
   "source": []
  },
  {
   "cell_type": "markdown",
   "metadata": {},
   "source": [
    "### Avaliando algoritmos de Classificação"
   ]
  },
  {
   "cell_type": "markdown",
   "metadata": {},
   "source": [
    "### Função de Treinamento e Avaliação"
   ]
  },
  {
   "cell_type": "code",
   "execution_count": null,
   "metadata": {},
   "outputs": [],
   "source": []
  },
  {
   "cell_type": "markdown",
   "metadata": {},
   "source": [
    "### Testando algoritmos"
   ]
  },
  {
   "cell_type": "code",
   "execution_count": null,
   "metadata": {},
   "outputs": [],
   "source": []
  },
  {
   "cell_type": "markdown",
   "metadata": {},
   "source": [
    "## <font color=\"#1D334A\" size=8>Aula 07 - Avaliação de Modelos e Overfit</font>"
   ]
  },
  {
   "cell_type": "markdown",
   "metadata": {},
   "source": [
    "## Limites do hold out: reduzindo a aleatoriedade do modelo"
   ]
  },
  {
   "cell_type": "code",
   "execution_count": null,
   "metadata": {},
   "outputs": [],
   "source": []
  },
  {
   "cell_type": "code",
   "execution_count": null,
   "metadata": {},
   "outputs": [],
   "source": []
  },
  {
   "cell_type": "markdown",
   "metadata": {},
   "source": [
    "## Usando Cross Validation para estimar o erro médio de um modelo"
   ]
  },
  {
   "cell_type": "code",
   "execution_count": null,
   "metadata": {},
   "outputs": [],
   "source": []
  },
  {
   "cell_type": "code",
   "execution_count": null,
   "metadata": {},
   "outputs": [],
   "source": []
  },
  {
   "cell_type": "markdown",
   "metadata": {},
   "source": [
    "## Fazendo função de geração do ic 0.95 dos estimadores\n"
   ]
  },
  {
   "cell_type": "code",
   "execution_count": null,
   "metadata": {},
   "outputs": [],
   "source": []
  },
  {
   "cell_type": "markdown",
   "metadata": {},
   "source": [
    "## Avaliando Overfit da Decision Tree"
   ]
  },
  {
   "cell_type": "code",
   "execution_count": null,
   "metadata": {},
   "outputs": [],
   "source": []
  },
  {
   "cell_type": "markdown",
   "metadata": {},
   "source": [
    "## Usando GridSearch para ajustar hiperparâmetros do modelo"
   ]
  },
  {
   "cell_type": "code",
   "execution_count": null,
   "metadata": {},
   "outputs": [],
   "source": []
  },
  {
   "cell_type": "markdown",
   "metadata": {},
   "source": [
    "## <font color=\"#1D334A\" size=6>Desafios da Aula 01 (Conhecendo os Dados)</font>"
   ]
  },
  {
   "cell_type": "markdown",
   "metadata": {},
   "source": [
    "### Desafio 01.A - Proporção de Inscritos por Idade"
   ]
  },
  {
   "cell_type": "markdown",
   "metadata": {},
   "source": [
    "Gerar um dataframe que contenha, além do número absoluto de inscritos por idade, o valor percentual de cada idade entre os inscritos"
   ]
  },
  {
   "cell_type": "code",
   "execution_count": null,
   "metadata": {},
   "outputs": [],
   "source": []
  },
  {
   "cell_type": "markdown",
   "metadata": {},
   "source": [
    "### Desafio 01.B - Estados dos Inscritos com 13 anos"
   ]
  },
  {
   "cell_type": "code",
   "execution_count": null,
   "metadata": {},
   "outputs": [],
   "source": []
  },
  {
   "cell_type": "markdown",
   "metadata": {},
   "source": [
    "### Desafio 01.C - Utilizar o seaborn / matplotlib para melhorar a exibição do histograma da idade dos inscritos"
   ]
  },
  {
   "cell_type": "code",
   "execution_count": null,
   "metadata": {},
   "outputs": [],
   "source": []
  },
  {
   "cell_type": "markdown",
   "metadata": {},
   "source": [
    "### Desafio 01.D - Utilizar o seaborn / matplotlib para plotar os histogramas das idades dos treineiros\n"
   ]
  },
  {
   "cell_type": "code",
   "execution_count": null,
   "metadata": {},
   "outputs": [],
   "source": []
  },
  {
   "cell_type": "markdown",
   "metadata": {},
   "source": [
    "### Desafio 01.E - Comparar as distribuições das provas em Inglês e Espanhol\n"
   ]
  },
  {
   "cell_type": "code",
   "execution_count": null,
   "metadata": {},
   "outputs": [],
   "source": []
  },
  {
   "cell_type": "markdown",
   "metadata": {},
   "source": [
    "### Desafio 01.F - Importar o Pandas Profiling e fazer um relatório inicial sobre os dados de notas e do questionário sócio econômico\n"
   ]
  },
  {
   "cell_type": "code",
   "execution_count": null,
   "metadata": {},
   "outputs": [],
   "source": []
  },
  {
   "cell_type": "markdown",
   "metadata": {},
   "source": [
    "## <font color=\"#1D334A\" size=6>Desafios da Aula 02 (Análise Exploratória: Visualizando os dados)</font>"
   ]
  },
  {
   "cell_type": "markdown",
   "metadata": {},
   "source": [
    "### Desafio 02.A - Rodar avaliação de percentual por UF para população completa dos alunos de 13 e 14 anos e comparar com a amostra"
   ]
  },
  {
   "cell_type": "code",
   "execution_count": null,
   "metadata": {},
   "outputs": [],
   "source": []
  },
  {
   "cell_type": "code",
   "execution_count": null,
   "metadata": {},
   "outputs": [],
   "source": []
  },
  {
   "cell_type": "markdown",
   "metadata": {},
   "source": [
    "### Desafio 02.B - Rodar avaliação de percentual por UF para população dos alunos de 13 e 14 anos e comparar com a amostra"
   ]
  },
  {
   "cell_type": "code",
   "execution_count": null,
   "metadata": {},
   "outputs": [],
   "source": []
  },
  {
   "cell_type": "markdown",
   "metadata": {},
   "source": [
    "### Desafio 02.C - Verificar se quem zerou a prova foi eliminado ou não estava presente"
   ]
  },
  {
   "cell_type": "code",
   "execution_count": null,
   "metadata": {},
   "outputs": [],
   "source": [
    "\n"
   ]
  },
  {
   "cell_type": "markdown",
   "metadata": {},
   "source": [
    "### Desafio 02.D -  Verificar se quem é eliminado tira zero ou não terá registro de notas (NaN)"
   ]
  },
  {
   "cell_type": "code",
   "execution_count": null,
   "metadata": {},
   "outputs": [],
   "source": [
    "\n"
   ]
  },
  {
   "cell_type": "markdown",
   "metadata": {},
   "source": [
    "### Desafio 02.E - Verificar a proporção dos treineiros por estrato"
   ]
  },
  {
   "cell_type": "code",
   "execution_count": null,
   "metadata": {},
   "outputs": [],
   "source": [
    "\n"
   ]
  },
  {
   "cell_type": "markdown",
   "metadata": {},
   "source": [
    "### Desafio 02.F1 - Escrever função para gerar gráfico de barras horizontais combinado"
   ]
  },
  {
   "cell_type": "code",
   "execution_count": null,
   "metadata": {},
   "outputs": [],
   "source": []
  },
  {
   "cell_type": "markdown",
   "metadata": {},
   "source": [
    "### Desafio 02.F2 - Usar função de gráfico de barras horizontais combinado, para avaliar percentual de treneiros por estrato social"
   ]
  },
  {
   "cell_type": "code",
   "execution_count": null,
   "metadata": {
    "scrolled": true
   },
   "outputs": [],
   "source": [
    " \n"
   ]
  },
  {
   "cell_type": "markdown",
   "metadata": {},
   "source": [
    "### Desafio 02.G - Fazer o Boxplot para o Q25 "
   ]
  },
  {
   "cell_type": "code",
   "execution_count": null,
   "metadata": {},
   "outputs": [],
   "source": []
  },
  {
   "cell_type": "markdown",
   "metadata": {},
   "source": [
    "## <font color=\"#1D334A\" size=6>Desafios da Aula 03 (Distribuições e Correlações)</font>"
   ]
  },
  {
   "cell_type": "markdown",
   "metadata": {},
   "source": [
    "### Desafio 03.A - Plotar Médias, Modas e Medianas das notas de LC e NT para entender as assimetrias "
   ]
  },
  {
   "cell_type": "code",
   "execution_count": null,
   "metadata": {},
   "outputs": [],
   "source": []
  },
  {
   "cell_type": "markdown",
   "metadata": {},
   "source": [
    "### Desafio 03.B -Melhorar a visualização da matriz de correlação e analisá-la mais detalhadamente"
   ]
  },
  {
   "cell_type": "code",
   "execution_count": null,
   "metadata": {},
   "outputs": [],
   "source": []
  },
  {
   "cell_type": "markdown",
   "metadata": {},
   "source": [
    "### Desafio 03.C - Filtrar as notas pelo estado e comparar as correlações com a do sample"
   ]
  },
  {
   "cell_type": "code",
   "execution_count": null,
   "metadata": {},
   "outputs": [],
   "source": []
  },
  {
   "cell_type": "markdown",
   "metadata": {},
   "source": [
    "### Desafio 03.D - Avaliar a correlação entre Matemática e Linguagens "
   ]
  },
  {
   "cell_type": "markdown",
   "metadata": {},
   "source": [
    "###### A correlação entre MT e LC é a mais baixa dentre as correlações entre notas. Dela somente podemos extrair que existe uma tendência de alunos mais preparados, serem mais preparados nas diversas áreas de conhecimento. Talvez, a correlação seja melhor explicada pela correlação entre as notas e os extratos sociais"
   ]
  },
  {
   "cell_type": "markdown",
   "metadata": {},
   "source": [
    "## <font color=\"#1D334A\" size=6>Desafios da Aula 04 (Regressão Linear e Inferência)</font>"
   ]
  },
  {
   "cell_type": "markdown",
   "metadata": {},
   "source": [
    "### Desafio 04.A - Gerar Modelo de Regressão para a variavel dependente (Nota de Matemática), à partir das variáveis padronizadas (z-score)\n",
    "\n",
    "<img src='img/padronizada.png' width='15%'>"
   ]
  },
  {
   "cell_type": "markdown",
   "metadata": {},
   "source": [
    "### Padronizando dados de treino e gerando dados de avaliação da predição do modelo normalizado\n"
   ]
  },
  {
   "cell_type": "markdown",
   "metadata": {},
   "source": [
    "### Função de Padronização"
   ]
  },
  {
   "cell_type": "code",
   "execution_count": null,
   "metadata": {},
   "outputs": [],
   "source": []
  },
  {
   "cell_type": "markdown",
   "metadata": {},
   "source": [
    "### Avaliando dados gerados após padronização\n"
   ]
  },
  {
   "cell_type": "code",
   "execution_count": null,
   "metadata": {},
   "outputs": [],
   "source": []
  },
  {
   "cell_type": "markdown",
   "metadata": {},
   "source": [
    "### Exibindo comparativo das métricas"
   ]
  },
  {
   "cell_type": "code",
   "execution_count": null,
   "metadata": {},
   "outputs": [],
   "source": []
  },
  {
   "cell_type": "markdown",
   "metadata": {},
   "source": [
    "### Exibindo comparativo das predições"
   ]
  },
  {
   "cell_type": "code",
   "execution_count": null,
   "metadata": {},
   "outputs": [],
   "source": []
  },
  {
   "cell_type": "markdown",
   "metadata": {},
   "source": [
    "## <font color=\"#1D334A\" size=6>Desafios da Aula 05 (Machine Learning)</font>"
   ]
  },
  {
   "cell_type": "markdown",
   "metadata": {},
   "source": [
    "### Desafio 05.A - Avaliar visualmente a heterocedasticidade do melhor modelo dentre os gerados em aula"
   ]
  },
  {
   "cell_type": "code",
   "execution_count": null,
   "metadata": {},
   "outputs": [],
   "source": []
  },
  {
   "cell_type": "markdown",
   "metadata": {},
   "source": [
    "### Desafio 05.B - Pesquisar outro modelo de ML e comparar com os demais preditores."
   ]
  },
  {
   "cell_type": "code",
   "execution_count": null,
   "metadata": {},
   "outputs": [],
   "source": [
    "\n",
    "\n"
   ]
  },
  {
   "cell_type": "code",
   "execution_count": null,
   "metadata": {},
   "outputs": [],
   "source": []
  },
  {
   "cell_type": "markdown",
   "metadata": {},
   "source": [
    "## Desafio XVII - Ler a documentação do Dummy e alterar o método de regressão\n"
   ]
  },
  {
   "cell_type": "code",
   "execution_count": null,
   "metadata": {},
   "outputs": [],
   "source": []
  },
  {
   "cell_type": "markdown",
   "metadata": {},
   "source": [
    "## Desafio XVIII - Buscar outras métricas para avaliar modelos de regressão\n"
   ]
  },
  {
   "cell_type": "code",
   "execution_count": null,
   "metadata": {},
   "outputs": [],
   "source": []
  },
  {
   "cell_type": "markdown",
   "metadata": {},
   "source": [
    "## <font color=\"#1D334A\" size=6>Desafios da Aula 07 (Validação de Modelos)</font>"
   ]
  },
  {
   "cell_type": "markdown",
   "metadata": {},
   "source": [
    "## Desafio XIX - Plotar gráfico de linhas com test_score e train_score (gráfico de aprendizagem)\n",
    "\n"
   ]
  },
  {
   "cell_type": "code",
   "execution_count": null,
   "metadata": {},
   "outputs": [],
   "source": []
  },
  {
   "cell_type": "code",
   "execution_count": null,
   "metadata": {},
   "outputs": [],
   "source": []
  }
 ],
 "metadata": {
  "kernelspec": {
   "display_name": "Python 3",
   "language": "python",
   "name": "python3"
  },
  "language_info": {
   "codemirror_mode": {
    "name": "ipython",
    "version": 3
   },
   "file_extension": ".py",
   "mimetype": "text/x-python",
   "name": "python",
   "nbconvert_exporter": "python",
   "pygments_lexer": "ipython3",
   "version": "3.7.6"
  }
 },
 "nbformat": 4,
 "nbformat_minor": 4
}
